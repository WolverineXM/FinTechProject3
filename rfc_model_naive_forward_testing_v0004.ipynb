{
 "cells": [
  {
   "cell_type": "code",
   "execution_count": 1,
   "id": "0e040e78-a40d-4470-8772-05f4d5529f87",
   "metadata": {},
   "outputs": [],
   "source": [
    "import warnings\n",
    "warnings.filterwarnings('ignore')\n",
    "\n",
    "import pandas as pd\n",
    "import numpy as np\n",
    "from pathlib import Path\n",
    "import datetime\n",
    "from joblib import dump, load\n",
    "import joblib"
   ]
  },
  {
   "cell_type": "code",
   "execution_count": 2,
   "id": "2578760b-c8a0-4e46-8172-1a257adc271b",
   "metadata": {},
   "outputs": [],
   "source": [
    "# Resource for saving and loading sklearn models:  https://mljar.com/blog/save-load-random-forest/"
   ]
  },
  {
   "cell_type": "code",
   "execution_count": 3,
   "id": "312405ad-a0df-42c9-9beb-72efcadb71c8",
   "metadata": {},
   "outputs": [],
   "source": [
    "# Feature Set\n",
    "# ICE BofA US High Yield Index Option-Adjusted Spread (BAMLH0A0HYM2)\n",
    "# ICE BofA US Corporate Index Option-Adjusted Spread (BAMLC0A0CM)\n",
    "# ICE BofA BBB US Corporate Index Option-Adjusted Spread (BAMLC0A4CBBB)\n",
    "# ICE BofA BB US High Yield Index Option-Adjusted Spread (BAMLH0A1HYBB)\n",
    "# ICE BofA CCC & Lower US High Yield Index Option-Adjusted Spread (BAMLH0A3HYC)"
   ]
  },
  {
   "cell_type": "code",
   "execution_count": 4,
   "id": "65bbde06-2c45-423d-a3bc-b967260e714f",
   "metadata": {},
   "outputs": [],
   "source": [
    "# Run date included in data frame construction below\n",
    "run_date = datetime.datetime.now().strftime('%Y-%m-%d')"
   ]
  },
  {
   "cell_type": "code",
   "execution_count": 5,
   "id": "60fd3352-8be1-4efc-840a-eef0bb56fca1",
   "metadata": {},
   "outputs": [
    {
     "name": "stdout",
     "output_type": "stream",
     "text": [
      "Feature set on import:\n",
      "\n"
     ]
    },
    {
     "data": {
      "text/html": [
       "<div>\n",
       "<style scoped>\n",
       "    .dataframe tbody tr th:only-of-type {\n",
       "        vertical-align: middle;\n",
       "    }\n",
       "\n",
       "    .dataframe tbody tr th {\n",
       "        vertical-align: top;\n",
       "    }\n",
       "\n",
       "    .dataframe thead th {\n",
       "        text-align: right;\n",
       "    }\n",
       "</style>\n",
       "<table border=\"1\" class=\"dataframe\">\n",
       "  <thead>\n",
       "    <tr style=\"text-align: right;\">\n",
       "      <th></th>\n",
       "      <th>BAMLH0A0HYM2</th>\n",
       "      <th>BAMLC0A0CM</th>\n",
       "      <th>BAMLC0A4CBBB</th>\n",
       "      <th>BAMLH0A1HYBB</th>\n",
       "      <th>BAMLH0A3HYC</th>\n",
       "    </tr>\n",
       "    <tr>\n",
       "      <th>Date</th>\n",
       "      <th></th>\n",
       "      <th></th>\n",
       "      <th></th>\n",
       "      <th></th>\n",
       "      <th></th>\n",
       "    </tr>\n",
       "  </thead>\n",
       "  <tbody>\n",
       "    <tr>\n",
       "      <th>2021-10-19</th>\n",
       "      <td>-0.006431</td>\n",
       "      <td>0.0</td>\n",
       "      <td>0.000000</td>\n",
       "      <td>-0.013889</td>\n",
       "      <td>-0.003082</td>\n",
       "    </tr>\n",
       "    <tr>\n",
       "      <th>2021-10-20</th>\n",
       "      <td>-0.006472</td>\n",
       "      <td>0.0</td>\n",
       "      <td>0.000000</td>\n",
       "      <td>-0.004695</td>\n",
       "      <td>-0.001546</td>\n",
       "    </tr>\n",
       "    <tr>\n",
       "      <th>2021-10-21</th>\n",
       "      <td>-0.013029</td>\n",
       "      <td>0.0</td>\n",
       "      <td>0.000000</td>\n",
       "      <td>-0.023585</td>\n",
       "      <td>-0.004644</td>\n",
       "    </tr>\n",
       "    <tr>\n",
       "      <th>2021-10-22</th>\n",
       "      <td>0.013201</td>\n",
       "      <td>0.0</td>\n",
       "      <td>0.009091</td>\n",
       "      <td>0.014493</td>\n",
       "      <td>0.010886</td>\n",
       "    </tr>\n",
       "    <tr>\n",
       "      <th>2021-10-25</th>\n",
       "      <td>0.013029</td>\n",
       "      <td>0.0</td>\n",
       "      <td>-0.009009</td>\n",
       "      <td>0.019048</td>\n",
       "      <td>0.006154</td>\n",
       "    </tr>\n",
       "  </tbody>\n",
       "</table>\n",
       "</div>"
      ],
      "text/plain": [
       "            BAMLH0A0HYM2  BAMLC0A0CM  BAMLC0A4CBBB  BAMLH0A1HYBB  BAMLH0A3HYC\n",
       "Date                                                                         \n",
       "2021-10-19     -0.006431         0.0      0.000000     -0.013889    -0.003082\n",
       "2021-10-20     -0.006472         0.0      0.000000     -0.004695    -0.001546\n",
       "2021-10-21     -0.013029         0.0      0.000000     -0.023585    -0.004644\n",
       "2021-10-22      0.013201         0.0      0.009091      0.014493     0.010886\n",
       "2021-10-25      0.013029         0.0     -0.009009      0.019048     0.006154"
      ]
     },
     "execution_count": 5,
     "metadata": {},
     "output_type": "execute_result"
    }
   ],
   "source": [
    "# Import feature set data and construct the data frame\n",
    "feature_set_pct_path = Path('AutoOutputFiles/df_key_credit_data_usa_adjusted_pct.csv')\n",
    "df_feature_set = pd.read_csv(feature_set_pct_path, index_col=\"Date\", infer_datetime_format=True, parse_dates=True)\n",
    "\n",
    "# Uncomment if required for testing\n",
    "print(f'Feature set on import:\\n')\n",
    "df_feature_set.tail()"
   ]
  },
  {
   "cell_type": "code",
   "execution_count": 6,
   "id": "f09ec95a-7a0b-42b3-bfac-d3e40c1428d3",
   "metadata": {},
   "outputs": [],
   "source": [
    "# Feature set lag for Naive Model\n",
    "naive_model_lag = 27"
   ]
  },
  {
   "cell_type": "code",
   "execution_count": 7,
   "id": "a0e4e7ae-4cc0-4082-b896-517d1a3a66a4",
   "metadata": {},
   "outputs": [
    {
     "name": "stdout",
     "output_type": "stream",
     "text": [
      "The feature set is ready for forward testing\n",
      "The feature set was shifted by 27 days:\n",
      "\n",
      "Stated differently, we are using the T-minus 27 day feature set variable values for predictive purposes:\n",
      "\n"
     ]
    },
    {
     "data": {
      "text/html": [
       "<div>\n",
       "<style scoped>\n",
       "    .dataframe tbody tr th:only-of-type {\n",
       "        vertical-align: middle;\n",
       "    }\n",
       "\n",
       "    .dataframe tbody tr th {\n",
       "        vertical-align: top;\n",
       "    }\n",
       "\n",
       "    .dataframe thead th {\n",
       "        text-align: right;\n",
       "    }\n",
       "</style>\n",
       "<table border=\"1\" class=\"dataframe\">\n",
       "  <thead>\n",
       "    <tr style=\"text-align: right;\">\n",
       "      <th></th>\n",
       "      <th>BAMLH0A0HYM2</th>\n",
       "      <th>BAMLC0A0CM</th>\n",
       "      <th>BAMLC0A4CBBB</th>\n",
       "      <th>BAMLH0A1HYBB</th>\n",
       "      <th>BAMLH0A3HYC</th>\n",
       "    </tr>\n",
       "    <tr>\n",
       "      <th>Date</th>\n",
       "      <th></th>\n",
       "      <th></th>\n",
       "      <th></th>\n",
       "      <th></th>\n",
       "      <th></th>\n",
       "    </tr>\n",
       "  </thead>\n",
       "  <tbody>\n",
       "    <tr>\n",
       "      <th>1997-02-10</th>\n",
       "      <td>-0.022364</td>\n",
       "      <td>0.000000</td>\n",
       "      <td>0.000000</td>\n",
       "      <td>-0.015385</td>\n",
       "      <td>-0.013550</td>\n",
       "    </tr>\n",
       "    <tr>\n",
       "      <th>1997-02-11</th>\n",
       "      <td>0.009804</td>\n",
       "      <td>0.016667</td>\n",
       "      <td>0.000000</td>\n",
       "      <td>0.010417</td>\n",
       "      <td>0.012363</td>\n",
       "    </tr>\n",
       "    <tr>\n",
       "      <th>1997-02-12</th>\n",
       "      <td>0.003236</td>\n",
       "      <td>0.000000</td>\n",
       "      <td>0.024096</td>\n",
       "      <td>0.000000</td>\n",
       "      <td>-0.001357</td>\n",
       "    </tr>\n",
       "    <tr>\n",
       "      <th>1997-02-13</th>\n",
       "      <td>0.000000</td>\n",
       "      <td>0.000000</td>\n",
       "      <td>-0.011765</td>\n",
       "      <td>-0.005155</td>\n",
       "      <td>0.000000</td>\n",
       "    </tr>\n",
       "    <tr>\n",
       "      <th>1997-02-14</th>\n",
       "      <td>-0.009677</td>\n",
       "      <td>-0.016393</td>\n",
       "      <td>-0.011905</td>\n",
       "      <td>-0.010363</td>\n",
       "      <td>-0.002717</td>\n",
       "    </tr>\n",
       "    <tr>\n",
       "      <th>...</th>\n",
       "      <td>...</td>\n",
       "      <td>...</td>\n",
       "      <td>...</td>\n",
       "      <td>...</td>\n",
       "      <td>...</td>\n",
       "    </tr>\n",
       "    <tr>\n",
       "      <th>2021-10-19</th>\n",
       "      <td>-0.012698</td>\n",
       "      <td>-0.010870</td>\n",
       "      <td>-0.008850</td>\n",
       "      <td>-0.023148</td>\n",
       "      <td>0.000000</td>\n",
       "    </tr>\n",
       "    <tr>\n",
       "      <th>2021-10-20</th>\n",
       "      <td>-0.006431</td>\n",
       "      <td>-0.010989</td>\n",
       "      <td>0.000000</td>\n",
       "      <td>0.000000</td>\n",
       "      <td>-0.009202</td>\n",
       "    </tr>\n",
       "    <tr>\n",
       "      <th>2021-10-21</th>\n",
       "      <td>0.006472</td>\n",
       "      <td>0.000000</td>\n",
       "      <td>0.000000</td>\n",
       "      <td>0.009479</td>\n",
       "      <td>-0.001548</td>\n",
       "    </tr>\n",
       "    <tr>\n",
       "      <th>2021-10-22</th>\n",
       "      <td>-0.009646</td>\n",
       "      <td>0.000000</td>\n",
       "      <td>0.000000</td>\n",
       "      <td>-0.018779</td>\n",
       "      <td>-0.009302</td>\n",
       "    </tr>\n",
       "    <tr>\n",
       "      <th>2021-10-25</th>\n",
       "      <td>-0.006494</td>\n",
       "      <td>0.000000</td>\n",
       "      <td>-0.008929</td>\n",
       "      <td>-0.004785</td>\n",
       "      <td>-0.001565</td>\n",
       "    </tr>\n",
       "  </tbody>\n",
       "</table>\n",
       "<p>6436 rows × 5 columns</p>\n",
       "</div>"
      ],
      "text/plain": [
       "            BAMLH0A0HYM2  BAMLC0A0CM  BAMLC0A4CBBB  BAMLH0A1HYBB  BAMLH0A3HYC\n",
       "Date                                                                         \n",
       "1997-02-10     -0.022364    0.000000      0.000000     -0.015385    -0.013550\n",
       "1997-02-11      0.009804    0.016667      0.000000      0.010417     0.012363\n",
       "1997-02-12      0.003236    0.000000      0.024096      0.000000    -0.001357\n",
       "1997-02-13      0.000000    0.000000     -0.011765     -0.005155     0.000000\n",
       "1997-02-14     -0.009677   -0.016393     -0.011905     -0.010363    -0.002717\n",
       "...                  ...         ...           ...           ...          ...\n",
       "2021-10-19     -0.012698   -0.010870     -0.008850     -0.023148     0.000000\n",
       "2021-10-20     -0.006431   -0.010989      0.000000      0.000000    -0.009202\n",
       "2021-10-21      0.006472    0.000000      0.000000      0.009479    -0.001548\n",
       "2021-10-22     -0.009646    0.000000      0.000000     -0.018779    -0.009302\n",
       "2021-10-25     -0.006494    0.000000     -0.008929     -0.004785    -0.001565\n",
       "\n",
       "[6436 rows x 5 columns]"
      ]
     },
     "execution_count": 7,
     "metadata": {},
     "output_type": "execute_result"
    }
   ],
   "source": [
    "print('The feature set is ready for forward testing')\n",
    "print(f'The feature set was shifted by {naive_model_lag} days:\\n')\n",
    "print(f'Stated differently, we are using the T-minus {naive_model_lag} day feature set variable values for predictive purposes:\\n')\n",
    "\n",
    "X_variables = ['BAMLH0A0HYM2', 'BAMLC0A0CM', 'BAMLC0A4CBBB', 'BAMLH0A1HYBB', 'BAMLH0A3HYC']\n",
    "X = df_feature_set[X_variables].shift(naive_model_lag).dropna()\n",
    "X"
   ]
  },
  {
   "cell_type": "code",
   "execution_count": 8,
   "id": "7c51531d-af4b-4207-90c5-1e309cfcfd68",
   "metadata": {},
   "outputs": [
    {
     "name": "stdout",
     "output_type": "stream",
     "text": [
      "model_candidates/nieve/Lag_27_random_forest_2021-10-15.joblib\n"
     ]
    }
   ],
   "source": [
    "# Define the last in-sample model version date\n",
    "# This represents the last in-sample testing date when the models were finalized\n",
    "# date format = YYYY-MM-DD\n",
    "finalized_model_period_end_date = '2021-10-15'\n",
    "\n",
    "# Need to change 'nieve' to 'naive' to address misspelling\n",
    "naive_model_fl_path = 'model_candidates/nieve/Lag_' + str(naive_model_lag) + '_random_forest_' + finalized_model_period_end_date + '.joblib'\n",
    "\n",
    "print(naive_model_fl_path)"
   ]
  },
  {
   "cell_type": "code",
   "execution_count": 9,
   "id": "471b1a97-e03f-4655-b139-c13f905faf9e",
   "metadata": {},
   "outputs": [],
   "source": [
    "# load the model, no need to initialize the loaded_rf\n",
    "loaded_rfc = joblib.load(naive_model_fl_path)"
   ]
  },
  {
   "cell_type": "code",
   "execution_count": 10,
   "id": "d598e50d-2f6b-4a92-839d-ba7edb4f04e4",
   "metadata": {},
   "outputs": [
    {
     "data": {
      "text/plain": [
       "6436"
      ]
     },
     "execution_count": 10,
     "metadata": {},
     "output_type": "execute_result"
    }
   ],
   "source": [
    "# Make predictions for the target (equity)\n",
    "predictions = loaded_rfc.predict(X)\n",
    "predictions\n",
    "\n",
    "# Uncomment for length and data type for predictions\n",
    "# \"predictions\" should result equal a numpy.ndarray with dtype=int64\n",
    "len(predictions)\n",
    "#type(predictions)"
   ]
  },
  {
   "cell_type": "code",
   "execution_count": 11,
   "id": "cea946f7-a279-4208-801f-dfa22f5ebaa4",
   "metadata": {},
   "outputs": [
    {
     "data": {
      "text/plain": [
       "array([1, 0, 1, ..., 0, 1, 0], dtype=int64)"
      ]
     },
     "execution_count": 11,
     "metadata": {},
     "output_type": "execute_result"
    }
   ],
   "source": [
    "predictions"
   ]
  },
  {
   "cell_type": "code",
   "execution_count": 12,
   "id": "278172aa-a668-4ac3-ab54-2467eb3546b9",
   "metadata": {},
   "outputs": [
    {
     "name": "stdout",
     "output_type": "stream",
     "text": [
      "We are only concerned with predictions from October 18, 2021 onward\n"
     ]
    },
    {
     "data": {
      "text/plain": [
       "6430    1\n",
       "6431    1\n",
       "6432    1\n",
       "6433    0\n",
       "6434    1\n",
       "6435    0\n",
       "dtype: int64"
      ]
     },
     "execution_count": 12,
     "metadata": {},
     "output_type": "execute_result"
    }
   ],
   "source": [
    "# Convert \"predictions\" data type from a numpy.ndarray to a pandas series\n",
    "# each predicted value is for 27 days into the future, as the feature set was not shifted\n",
    "all_new_predictions = pd.Series(predictions)\n",
    "all_new_predictions\n",
    "\n",
    "print(f'We are only concerned with predictions from October 18, 2021 onward')\n",
    "\n",
    "# Final prior to project submission (We have 6 forward test results)\n",
    "new_predictions = all_new_predictions.iloc[-6:]\n",
    "new_predictions"
   ]
  },
  {
   "cell_type": "code",
   "execution_count": null,
   "id": "90a9d1c9-1020-4e74-83ab-7929f7c25af6",
   "metadata": {},
   "outputs": [],
   "source": []
  }
 ],
 "metadata": {
  "kernelspec": {
   "display_name": "Python 3 (ipykernel)",
   "language": "python",
   "name": "python3"
  },
  "language_info": {
   "codemirror_mode": {
    "name": "ipython",
    "version": 3
   },
   "file_extension": ".py",
   "mimetype": "text/x-python",
   "name": "python",
   "nbconvert_exporter": "python",
   "pygments_lexer": "ipython3",
   "version": "3.7.10"
  }
 },
 "nbformat": 4,
 "nbformat_minor": 5
}
