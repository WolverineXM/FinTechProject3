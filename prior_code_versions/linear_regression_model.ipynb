{
 "cells": [
  {
   "cell_type": "code",
   "execution_count": null,
   "id": "f21e5622-dbc7-46a2-a460-9e554d701542",
   "metadata": {},
   "outputs": [],
   "source": [
    "import warnings\n",
    "warnings.filterwarnings('ignore')\n",
    "\n",
    "import pandas as pd\n",
    "import numpy as np\n",
    "from pathlib import Path\n",
    "import time\n",
    "import datetime\n",
    "import hvplot.pandas\n",
    "\n",
    "#Import SKLearn Library and CLasses\n",
    "from sklearn.ensemble import RandomForestClassifier\n",
    "from sklearn.linear_model import LinearRegression\n",
    "from sklearn.model_selection import train_test_split\n",
    "from sklearn.model_selection import GridSearchCV, RandomizedSearchCV\n",
    "from sklearn.datasets import make_classification\n",
    "from sklearn import metrics\n",
    "\n",
    "from joblib import dump, load\n",
    "import joblib\n",
    "import yfinance as yf\n",
    "import pyfolio as pf\n",
    "from pyfolio import timeseries \n",
    "import matplotlib.pyplot as plt\n",
    "import empyrical\n",
    "%matplotlib inline\n",
    "\n",
    "# https://scikit-learn.org/stable/modules/generated/sklearn.linear_model.LinearRegression.html#\n",
    "# https://www.analyticsvidhya.com/blog/2021/05/multiple-linear-regression-using-python-and-scikit-learn/"
   ]
  },
  {
   "cell_type": "code",
   "execution_count": null,
   "id": "49c6e81e-0391-41ca-a356-af9288ba821f",
   "metadata": {},
   "outputs": [],
   "source": [
    "feature_set_pct_path = Path('AutoOutputFiles/df_key_credit_data_usa_adjusted_pct.csv')\n",
    "X = pd.read_csv(feature_set_pct_path, index_col=\"Date\", infer_datetime_format=True, parse_dates=True)\n",
    "print(f'Feature set prior to shift\\n')\n",
    "print(X.head())"
   ]
  },
  {
   "cell_type": "code",
   "execution_count": null,
   "id": "246c8c26-d908-424a-9b76-2e71c5bc3de7",
   "metadata": {},
   "outputs": [],
   "source": [
    "# Shift feature set\n",
    "\n",
    "i = 5\n",
    "\n",
    "X = X.shift(i).dropna()\n",
    "print(f'\\nFeature set post shift\\n')\n",
    "print(X.head())"
   ]
  },
  {
   "cell_type": "code",
   "execution_count": null,
   "id": "672b9efe-a9bc-4cba-a298-d0601d20ef01",
   "metadata": {},
   "outputs": [],
   "source": [
    "# Construct a data frame for equity security (target/dependent variable)\n",
    "tareget_set_levels_path = Path('AutoOutputFiles/df_equity_data.csv')\n",
    "equity_data = pd.read_csv(tareget_set_levels_path, index_col=\"Date\", infer_datetime_format=True, parse_dates=True)\n",
    "print(f'\\nTarget set on import:\\n')\n",
    "print(equity_data.head())"
   ]
  },
  {
   "cell_type": "code",
   "execution_count": null,
   "id": "e503791a-4bf2-4ec6-93f6-52076cb3235d",
   "metadata": {},
   "outputs": [],
   "source": [
    "df_trading_signals = pd.concat([equity_data, X], axis='columns', join='inner')\n",
    "print(f'\\nTrading Signals DataFrame used for modelling:\\n')\n",
    "print(df_trading_signals.head())"
   ]
  },
  {
   "cell_type": "code",
   "execution_count": null,
   "id": "5a1af021-d564-45e8-b71e-83a220e51700",
   "metadata": {},
   "outputs": [],
   "source": [
    "# Split into training and test datasets\n",
    "training_start = df_trading_signals.index.min().strftime(format='%Y-%m-%d')\n",
    "training_end = '2018-12-14'\n",
    "\n",
    "testing_start = '2018-12-15'\n",
    "testing_end = df_trading_signals.index.max().strftime(format='%Y-%m-%d')"
   ]
  },
  {
   "cell_type": "code",
   "execution_count": null,
   "id": "cb9f0b33-10fb-4a73-b2f1-4ee45b4e8e7e",
   "metadata": {},
   "outputs": [],
   "source": [
    "# Define X variable list\n",
    "x_variables = ['BAMLH0A0HYM2', 'BAMLC0A0CM', 'BAMLC0A4CBBB','BAMLH0A1HYBB', 'BAMLH0A3HYC']\n",
    "\n",
    "# X & Y Training Datasets\n",
    "x_train = df_trading_signals[x_variables][training_start:training_end]\n",
    "y_train = df_trading_signals['PositiveReturn'][training_start:training_end]\n",
    "print(f'\\nx_train = {x_train}')\n",
    "print(f'\\ny_train = {y_train}')     \n",
    "\n",
    "# X and Y Testing Datasets\n",
    "x_test = df_trading_signals[x_variables][testing_start:testing_end]\n",
    "y_test = df_trading_signals['PositiveReturn'][testing_start:testing_end]\n",
    "print(f'\\nx_train = {x_test}')\n",
    "print(f'\\ny_train = {y_test}')"
   ]
  },
  {
   "cell_type": "code",
   "execution_count": null,
   "id": "d0c242b4-a30c-4adb-88bf-ebb8e275b415",
   "metadata": {},
   "outputs": [],
   "source": [
    "# creating an object of LinearRegression class\n",
    "LR = LinearRegression()\n",
    "# fitting the training data\n",
    "LR.fit(x_train,y_train)"
   ]
  },
  {
   "cell_type": "code",
   "execution_count": null,
   "id": "cd303d1a-0996-459a-9d4e-ad0f91c6ee53",
   "metadata": {},
   "outputs": [],
   "source": [
    "y_prediction =  LR.predict(x_test)\n",
    "y_prediction"
   ]
  }
 ],
 "metadata": {
  "kernelspec": {
   "display_name": "Python 3 (ipykernel)",
   "language": "python",
   "name": "python3"
  },
  "language_info": {
   "codemirror_mode": {
    "name": "ipython",
    "version": 3
   },
   "file_extension": ".py",
   "mimetype": "text/x-python",
   "name": "python",
   "nbconvert_exporter": "python",
   "pygments_lexer": "ipython3",
   "version": "3.7.10"
  }
 },
 "nbformat": 4,
 "nbformat_minor": 5
}
