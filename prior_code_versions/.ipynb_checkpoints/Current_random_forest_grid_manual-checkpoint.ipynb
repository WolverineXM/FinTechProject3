{
 "cells": [
  {
   "cell_type": "markdown",
   "id": "350bf761-ae6d-425d-86f6-642957caf959",
   "metadata": {},
   "source": [
    "# Random Forest Classifier \n",
    "### Determine optimal model parameters using RandomizedSearchCV"
   ]
  },
  {
   "cell_type": "code",
   "execution_count": 7,
   "id": "39b3d1fc-733c-4393-a8e0-7cba31c607ff",
   "metadata": {},
   "outputs": [],
   "source": [
    "import warnings\n",
    "import pandas as pd\n",
    "import numpy as np\n",
    "from pathlib import Path\n",
    "import time\n",
    "import datetime\n",
    "import hvplot.pandas\n",
    "#Import SKLearn Library and CLasses\n",
    "from sklearn.ensemble import RandomForestClassifier\n",
    "from sklearn.model_selection import train_test_split\n",
    "from sklearn.model_selection import GridSearchCV, RandomizedSearchCV\n",
    "from sklearn.datasets import make_classification\n",
    "from sklearn import metrics"
   ]
  },
  {
   "cell_type": "code",
   "execution_count": 8,
   "id": "3a14b32b-ed92-48a6-a722-c0e444fbd0d2",
   "metadata": {},
   "outputs": [],
   "source": [
    "start_time = time.time()\n",
    "run_date = datetime.datetime.now().strftime('%Y_%m_%d')"
   ]
  },
  {
   "cell_type": "code",
   "execution_count": 9,
   "id": "03a2a3de-cd4d-44d4-b088-105abf76ef95",
   "metadata": {},
   "outputs": [],
   "source": [
    "warnings.filterwarnings('ignore')"
   ]
  },
  {
   "cell_type": "code",
   "execution_count": 14,
   "id": "d17b262e-ec0e-4047-8e6a-1808d515ea2b",
   "metadata": {},
   "outputs": [
    {
     "data": {
      "text/plain": [
       "WindowsPath('finalized_models_grid/df_key_credit_data_usa_adjusted_pct.csv')"
      ]
     },
     "execution_count": 14,
     "metadata": {},
     "output_type": "execute_result"
    }
   ],
   "source": [
    "# Open signals file for feature set\n",
    "feature_set_pct_path = Path('finalized_models_grid/df_key_credit_data_usa_adjusted_pct.csv')\n",
    "feature_set_pct_path"
   ]
  },
  {
   "cell_type": "code",
   "execution_count": 16,
   "id": "aac5341e-cd96-470b-af09-f932ded5eec0",
   "metadata": {},
   "outputs": [
    {
     "ename": "FileNotFoundError",
     "evalue": "[Errno 2] No such file or directory: 'finalized_models_grid\\\\df_key_credit_data_usa_adjusted_pct.csv'",
     "output_type": "error",
     "traceback": [
      "\u001b[1;31m---------------------------------------------------------------------------\u001b[0m",
      "\u001b[1;31mFileNotFoundError\u001b[0m                         Traceback (most recent call last)",
      "\u001b[1;32mC:\\Users\\GIRARD~1\\AppData\\Local\\Temp/ipykernel_71744/2411695155.py\u001b[0m in \u001b[0;36m<module>\u001b[1;34m\u001b[0m\n\u001b[0;32m      1\u001b[0m \u001b[1;31m#X = pd.read_csv(feature_set_pct_path, index_col=\"Date\", infer_datetime_format=True, parse_dates=True)\u001b[0m\u001b[1;33m\u001b[0m\u001b[1;33m\u001b[0m\u001b[1;33m\u001b[0m\u001b[0m\n\u001b[1;32m----> 2\u001b[1;33m \u001b[0mX\u001b[0m \u001b[1;33m=\u001b[0m \u001b[0mpd\u001b[0m\u001b[1;33m.\u001b[0m\u001b[0mread_csv\u001b[0m\u001b[1;33m(\u001b[0m\u001b[0mfeature_set_pct_path\u001b[0m\u001b[1;33m,\u001b[0m \u001b[0mindex_col\u001b[0m\u001b[1;33m=\u001b[0m\u001b[1;34m\"Date\"\u001b[0m\u001b[1;33m)\u001b[0m\u001b[1;33m\u001b[0m\u001b[1;33m\u001b[0m\u001b[0m\n\u001b[0m\u001b[0;32m      3\u001b[0m \u001b[0mX\u001b[0m\u001b[1;33m.\u001b[0m\u001b[0mhead\u001b[0m\u001b[1;33m(\u001b[0m\u001b[1;33m)\u001b[0m\u001b[1;33m\u001b[0m\u001b[1;33m\u001b[0m\u001b[0m\n",
      "\u001b[1;32m~\\anaconda3\\envs\\dev\\lib\\site-packages\\pandas\\util\\_decorators.py\u001b[0m in \u001b[0;36mwrapper\u001b[1;34m(*args, **kwargs)\u001b[0m\n\u001b[0;32m    309\u001b[0m                     \u001b[0mstacklevel\u001b[0m\u001b[1;33m=\u001b[0m\u001b[0mstacklevel\u001b[0m\u001b[1;33m,\u001b[0m\u001b[1;33m\u001b[0m\u001b[1;33m\u001b[0m\u001b[0m\n\u001b[0;32m    310\u001b[0m                 )\n\u001b[1;32m--> 311\u001b[1;33m             \u001b[1;32mreturn\u001b[0m \u001b[0mfunc\u001b[0m\u001b[1;33m(\u001b[0m\u001b[1;33m*\u001b[0m\u001b[0margs\u001b[0m\u001b[1;33m,\u001b[0m \u001b[1;33m**\u001b[0m\u001b[0mkwargs\u001b[0m\u001b[1;33m)\u001b[0m\u001b[1;33m\u001b[0m\u001b[1;33m\u001b[0m\u001b[0m\n\u001b[0m\u001b[0;32m    312\u001b[0m \u001b[1;33m\u001b[0m\u001b[0m\n\u001b[0;32m    313\u001b[0m         \u001b[1;32mreturn\u001b[0m \u001b[0mwrapper\u001b[0m\u001b[1;33m\u001b[0m\u001b[1;33m\u001b[0m\u001b[0m\n",
      "\u001b[1;32m~\\anaconda3\\envs\\dev\\lib\\site-packages\\pandas\\io\\parsers\\readers.py\u001b[0m in \u001b[0;36mread_csv\u001b[1;34m(filepath_or_buffer, sep, delimiter, header, names, index_col, usecols, squeeze, prefix, mangle_dupe_cols, dtype, engine, converters, true_values, false_values, skipinitialspace, skiprows, skipfooter, nrows, na_values, keep_default_na, na_filter, verbose, skip_blank_lines, parse_dates, infer_datetime_format, keep_date_col, date_parser, dayfirst, cache_dates, iterator, chunksize, compression, thousands, decimal, lineterminator, quotechar, quoting, doublequote, escapechar, comment, encoding, encoding_errors, dialect, error_bad_lines, warn_bad_lines, on_bad_lines, delim_whitespace, low_memory, memory_map, float_precision, storage_options)\u001b[0m\n\u001b[0;32m    584\u001b[0m     \u001b[0mkwds\u001b[0m\u001b[1;33m.\u001b[0m\u001b[0mupdate\u001b[0m\u001b[1;33m(\u001b[0m\u001b[0mkwds_defaults\u001b[0m\u001b[1;33m)\u001b[0m\u001b[1;33m\u001b[0m\u001b[1;33m\u001b[0m\u001b[0m\n\u001b[0;32m    585\u001b[0m \u001b[1;33m\u001b[0m\u001b[0m\n\u001b[1;32m--> 586\u001b[1;33m     \u001b[1;32mreturn\u001b[0m \u001b[0m_read\u001b[0m\u001b[1;33m(\u001b[0m\u001b[0mfilepath_or_buffer\u001b[0m\u001b[1;33m,\u001b[0m \u001b[0mkwds\u001b[0m\u001b[1;33m)\u001b[0m\u001b[1;33m\u001b[0m\u001b[1;33m\u001b[0m\u001b[0m\n\u001b[0m\u001b[0;32m    587\u001b[0m \u001b[1;33m\u001b[0m\u001b[0m\n\u001b[0;32m    588\u001b[0m \u001b[1;33m\u001b[0m\u001b[0m\n",
      "\u001b[1;32m~\\anaconda3\\envs\\dev\\lib\\site-packages\\pandas\\io\\parsers\\readers.py\u001b[0m in \u001b[0;36m_read\u001b[1;34m(filepath_or_buffer, kwds)\u001b[0m\n\u001b[0;32m    480\u001b[0m \u001b[1;33m\u001b[0m\u001b[0m\n\u001b[0;32m    481\u001b[0m     \u001b[1;31m# Create the parser.\u001b[0m\u001b[1;33m\u001b[0m\u001b[1;33m\u001b[0m\u001b[1;33m\u001b[0m\u001b[0m\n\u001b[1;32m--> 482\u001b[1;33m     \u001b[0mparser\u001b[0m \u001b[1;33m=\u001b[0m \u001b[0mTextFileReader\u001b[0m\u001b[1;33m(\u001b[0m\u001b[0mfilepath_or_buffer\u001b[0m\u001b[1;33m,\u001b[0m \u001b[1;33m**\u001b[0m\u001b[0mkwds\u001b[0m\u001b[1;33m)\u001b[0m\u001b[1;33m\u001b[0m\u001b[1;33m\u001b[0m\u001b[0m\n\u001b[0m\u001b[0;32m    483\u001b[0m \u001b[1;33m\u001b[0m\u001b[0m\n\u001b[0;32m    484\u001b[0m     \u001b[1;32mif\u001b[0m \u001b[0mchunksize\u001b[0m \u001b[1;32mor\u001b[0m \u001b[0miterator\u001b[0m\u001b[1;33m:\u001b[0m\u001b[1;33m\u001b[0m\u001b[1;33m\u001b[0m\u001b[0m\n",
      "\u001b[1;32m~\\anaconda3\\envs\\dev\\lib\\site-packages\\pandas\\io\\parsers\\readers.py\u001b[0m in \u001b[0;36m__init__\u001b[1;34m(self, f, engine, **kwds)\u001b[0m\n\u001b[0;32m    809\u001b[0m             \u001b[0mself\u001b[0m\u001b[1;33m.\u001b[0m\u001b[0moptions\u001b[0m\u001b[1;33m[\u001b[0m\u001b[1;34m\"has_index_names\"\u001b[0m\u001b[1;33m]\u001b[0m \u001b[1;33m=\u001b[0m \u001b[0mkwds\u001b[0m\u001b[1;33m[\u001b[0m\u001b[1;34m\"has_index_names\"\u001b[0m\u001b[1;33m]\u001b[0m\u001b[1;33m\u001b[0m\u001b[1;33m\u001b[0m\u001b[0m\n\u001b[0;32m    810\u001b[0m \u001b[1;33m\u001b[0m\u001b[0m\n\u001b[1;32m--> 811\u001b[1;33m         \u001b[0mself\u001b[0m\u001b[1;33m.\u001b[0m\u001b[0m_engine\u001b[0m \u001b[1;33m=\u001b[0m \u001b[0mself\u001b[0m\u001b[1;33m.\u001b[0m\u001b[0m_make_engine\u001b[0m\u001b[1;33m(\u001b[0m\u001b[0mself\u001b[0m\u001b[1;33m.\u001b[0m\u001b[0mengine\u001b[0m\u001b[1;33m)\u001b[0m\u001b[1;33m\u001b[0m\u001b[1;33m\u001b[0m\u001b[0m\n\u001b[0m\u001b[0;32m    812\u001b[0m \u001b[1;33m\u001b[0m\u001b[0m\n\u001b[0;32m    813\u001b[0m     \u001b[1;32mdef\u001b[0m \u001b[0mclose\u001b[0m\u001b[1;33m(\u001b[0m\u001b[0mself\u001b[0m\u001b[1;33m)\u001b[0m\u001b[1;33m:\u001b[0m\u001b[1;33m\u001b[0m\u001b[1;33m\u001b[0m\u001b[0m\n",
      "\u001b[1;32m~\\anaconda3\\envs\\dev\\lib\\site-packages\\pandas\\io\\parsers\\readers.py\u001b[0m in \u001b[0;36m_make_engine\u001b[1;34m(self, engine)\u001b[0m\n\u001b[0;32m   1038\u001b[0m             )\n\u001b[0;32m   1039\u001b[0m         \u001b[1;31m# error: Too many arguments for \"ParserBase\"\u001b[0m\u001b[1;33m\u001b[0m\u001b[1;33m\u001b[0m\u001b[1;33m\u001b[0m\u001b[0m\n\u001b[1;32m-> 1040\u001b[1;33m         \u001b[1;32mreturn\u001b[0m \u001b[0mmapping\u001b[0m\u001b[1;33m[\u001b[0m\u001b[0mengine\u001b[0m\u001b[1;33m]\u001b[0m\u001b[1;33m(\u001b[0m\u001b[0mself\u001b[0m\u001b[1;33m.\u001b[0m\u001b[0mf\u001b[0m\u001b[1;33m,\u001b[0m \u001b[1;33m**\u001b[0m\u001b[0mself\u001b[0m\u001b[1;33m.\u001b[0m\u001b[0moptions\u001b[0m\u001b[1;33m)\u001b[0m  \u001b[1;31m# type: ignore[call-arg]\u001b[0m\u001b[1;33m\u001b[0m\u001b[1;33m\u001b[0m\u001b[0m\n\u001b[0m\u001b[0;32m   1041\u001b[0m \u001b[1;33m\u001b[0m\u001b[0m\n\u001b[0;32m   1042\u001b[0m     \u001b[1;32mdef\u001b[0m \u001b[0m_failover_to_python\u001b[0m\u001b[1;33m(\u001b[0m\u001b[0mself\u001b[0m\u001b[1;33m)\u001b[0m\u001b[1;33m:\u001b[0m\u001b[1;33m\u001b[0m\u001b[1;33m\u001b[0m\u001b[0m\n",
      "\u001b[1;32m~\\anaconda3\\envs\\dev\\lib\\site-packages\\pandas\\io\\parsers\\c_parser_wrapper.py\u001b[0m in \u001b[0;36m__init__\u001b[1;34m(self, src, **kwds)\u001b[0m\n\u001b[0;32m     49\u001b[0m \u001b[1;33m\u001b[0m\u001b[0m\n\u001b[0;32m     50\u001b[0m         \u001b[1;31m# open handles\u001b[0m\u001b[1;33m\u001b[0m\u001b[1;33m\u001b[0m\u001b[1;33m\u001b[0m\u001b[0m\n\u001b[1;32m---> 51\u001b[1;33m         \u001b[0mself\u001b[0m\u001b[1;33m.\u001b[0m\u001b[0m_open_handles\u001b[0m\u001b[1;33m(\u001b[0m\u001b[0msrc\u001b[0m\u001b[1;33m,\u001b[0m \u001b[0mkwds\u001b[0m\u001b[1;33m)\u001b[0m\u001b[1;33m\u001b[0m\u001b[1;33m\u001b[0m\u001b[0m\n\u001b[0m\u001b[0;32m     52\u001b[0m         \u001b[1;32massert\u001b[0m \u001b[0mself\u001b[0m\u001b[1;33m.\u001b[0m\u001b[0mhandles\u001b[0m \u001b[1;32mis\u001b[0m \u001b[1;32mnot\u001b[0m \u001b[1;32mNone\u001b[0m\u001b[1;33m\u001b[0m\u001b[1;33m\u001b[0m\u001b[0m\n\u001b[0;32m     53\u001b[0m \u001b[1;33m\u001b[0m\u001b[0m\n",
      "\u001b[1;32m~\\anaconda3\\envs\\dev\\lib\\site-packages\\pandas\\io\\parsers\\base_parser.py\u001b[0m in \u001b[0;36m_open_handles\u001b[1;34m(self, src, kwds)\u001b[0m\n\u001b[0;32m    227\u001b[0m             \u001b[0mmemory_map\u001b[0m\u001b[1;33m=\u001b[0m\u001b[0mkwds\u001b[0m\u001b[1;33m.\u001b[0m\u001b[0mget\u001b[0m\u001b[1;33m(\u001b[0m\u001b[1;34m\"memory_map\"\u001b[0m\u001b[1;33m,\u001b[0m \u001b[1;32mFalse\u001b[0m\u001b[1;33m)\u001b[0m\u001b[1;33m,\u001b[0m\u001b[1;33m\u001b[0m\u001b[1;33m\u001b[0m\u001b[0m\n\u001b[0;32m    228\u001b[0m             \u001b[0mstorage_options\u001b[0m\u001b[1;33m=\u001b[0m\u001b[0mkwds\u001b[0m\u001b[1;33m.\u001b[0m\u001b[0mget\u001b[0m\u001b[1;33m(\u001b[0m\u001b[1;34m\"storage_options\"\u001b[0m\u001b[1;33m,\u001b[0m \u001b[1;32mNone\u001b[0m\u001b[1;33m)\u001b[0m\u001b[1;33m,\u001b[0m\u001b[1;33m\u001b[0m\u001b[1;33m\u001b[0m\u001b[0m\n\u001b[1;32m--> 229\u001b[1;33m             \u001b[0merrors\u001b[0m\u001b[1;33m=\u001b[0m\u001b[0mkwds\u001b[0m\u001b[1;33m.\u001b[0m\u001b[0mget\u001b[0m\u001b[1;33m(\u001b[0m\u001b[1;34m\"encoding_errors\"\u001b[0m\u001b[1;33m,\u001b[0m \u001b[1;34m\"strict\"\u001b[0m\u001b[1;33m)\u001b[0m\u001b[1;33m,\u001b[0m\u001b[1;33m\u001b[0m\u001b[1;33m\u001b[0m\u001b[0m\n\u001b[0m\u001b[0;32m    230\u001b[0m         )\n\u001b[0;32m    231\u001b[0m \u001b[1;33m\u001b[0m\u001b[0m\n",
      "\u001b[1;32m~\\anaconda3\\envs\\dev\\lib\\site-packages\\pandas\\io\\common.py\u001b[0m in \u001b[0;36mget_handle\u001b[1;34m(path_or_buf, mode, encoding, compression, memory_map, is_text, errors, storage_options)\u001b[0m\n\u001b[0;32m    704\u001b[0m                 \u001b[0mencoding\u001b[0m\u001b[1;33m=\u001b[0m\u001b[0mioargs\u001b[0m\u001b[1;33m.\u001b[0m\u001b[0mencoding\u001b[0m\u001b[1;33m,\u001b[0m\u001b[1;33m\u001b[0m\u001b[1;33m\u001b[0m\u001b[0m\n\u001b[0;32m    705\u001b[0m                 \u001b[0merrors\u001b[0m\u001b[1;33m=\u001b[0m\u001b[0merrors\u001b[0m\u001b[1;33m,\u001b[0m\u001b[1;33m\u001b[0m\u001b[1;33m\u001b[0m\u001b[0m\n\u001b[1;32m--> 706\u001b[1;33m                 \u001b[0mnewline\u001b[0m\u001b[1;33m=\u001b[0m\u001b[1;34m\"\"\u001b[0m\u001b[1;33m,\u001b[0m\u001b[1;33m\u001b[0m\u001b[1;33m\u001b[0m\u001b[0m\n\u001b[0m\u001b[0;32m    707\u001b[0m             )\n\u001b[0;32m    708\u001b[0m         \u001b[1;32melse\u001b[0m\u001b[1;33m:\u001b[0m\u001b[1;33m\u001b[0m\u001b[1;33m\u001b[0m\u001b[0m\n",
      "\u001b[1;31mFileNotFoundError\u001b[0m: [Errno 2] No such file or directory: 'finalized_models_grid\\\\df_key_credit_data_usa_adjusted_pct.csv'"
     ]
    }
   ],
   "source": [
    "X = pd.read_csv(feature_set_pct_path, index_col=\"Date\", infer_datetime_format=True, parse_dates=True)\n",
    "X.head()"
   ]
  },
  {
   "cell_type": "code",
   "execution_count": 5,
   "id": "48007dd2-ac1c-4622-a682-e2f260cde400",
   "metadata": {},
   "outputs": [
    {
     "data": {
      "text/html": [
       "<div>\n",
       "<style scoped>\n",
       "    .dataframe tbody tr th:only-of-type {\n",
       "        vertical-align: middle;\n",
       "    }\n",
       "\n",
       "    .dataframe tbody tr th {\n",
       "        vertical-align: top;\n",
       "    }\n",
       "\n",
       "    .dataframe thead th {\n",
       "        text-align: right;\n",
       "    }\n",
       "</style>\n",
       "<table border=\"1\" class=\"dataframe\">\n",
       "  <thead>\n",
       "    <tr style=\"text-align: right;\">\n",
       "      <th></th>\n",
       "      <th>Close</th>\n",
       "      <th>EquityPriceReturns</th>\n",
       "      <th>PositiveReturn</th>\n",
       "    </tr>\n",
       "    <tr>\n",
       "      <th>Date</th>\n",
       "      <th></th>\n",
       "      <th></th>\n",
       "      <th></th>\n",
       "    </tr>\n",
       "  </thead>\n",
       "  <tbody>\n",
       "    <tr>\n",
       "      <th>2011-10-18</th>\n",
       "      <td>100.929893</td>\n",
       "      <td>0.019546</td>\n",
       "      <td>1</td>\n",
       "    </tr>\n",
       "    <tr>\n",
       "      <th>2011-10-19</th>\n",
       "      <td>99.735985</td>\n",
       "      <td>-0.011829</td>\n",
       "      <td>0</td>\n",
       "    </tr>\n",
       "    <tr>\n",
       "      <th>2011-10-20</th>\n",
       "      <td>100.172394</td>\n",
       "      <td>0.004376</td>\n",
       "      <td>1</td>\n",
       "    </tr>\n",
       "    <tr>\n",
       "      <th>2011-10-21</th>\n",
       "      <td>102.074387</td>\n",
       "      <td>0.018987</td>\n",
       "      <td>1</td>\n",
       "    </tr>\n",
       "    <tr>\n",
       "      <th>2011-10-24</th>\n",
       "      <td>103.325928</td>\n",
       "      <td>0.012261</td>\n",
       "      <td>1</td>\n",
       "    </tr>\n",
       "  </tbody>\n",
       "</table>\n",
       "</div>"
      ],
      "text/plain": [
       "                 Close  EquityPriceReturns  PositiveReturn\n",
       "Date                                                      \n",
       "2011-10-18  100.929893            0.019546               1\n",
       "2011-10-19   99.735985           -0.011829               0\n",
       "2011-10-20  100.172394            0.004376               1\n",
       "2011-10-21  102.074387            0.018987               1\n",
       "2011-10-24  103.325928            0.012261               1"
      ]
     },
     "execution_count": 5,
     "metadata": {},
     "output_type": "execute_result"
    }
   ],
   "source": [
    "# Construct a data frame for equity security (target/dependent variable)\n",
    "tareget_set_levels_path = Path('AutoOutputFiles/df_equity_data.csv')\n",
    "equity_data = pd.read_csv(tareget_set_levels_path, index_col=\"Date\", infer_datetime_format=True, parse_dates=True)\n",
    "equity_data.head()"
   ]
  },
  {
   "cell_type": "code",
   "execution_count": 6,
   "id": "19b9d3fa-c2bb-48eb-b041-d56c73e505c6",
   "metadata": {},
   "outputs": [
    {
     "name": "stdout",
     "output_type": "stream",
     "text": [
      "The DataFrame named \"df_trading_signals\" constructed to hold Equity closing price levels, Equity daily returns, indication of positive, 1, and negative, 0, Equity returns.\n",
      "\n",
      "\"df_trading_signals\" has a shape of (2500, 8)\n",
      "\n"
     ]
    },
    {
     "data": {
      "text/html": [
       "<div>\n",
       "<style scoped>\n",
       "    .dataframe tbody tr th:only-of-type {\n",
       "        vertical-align: middle;\n",
       "    }\n",
       "\n",
       "    .dataframe tbody tr th {\n",
       "        vertical-align: top;\n",
       "    }\n",
       "\n",
       "    .dataframe thead th {\n",
       "        text-align: right;\n",
       "    }\n",
       "</style>\n",
       "<table border=\"1\" class=\"dataframe\">\n",
       "  <thead>\n",
       "    <tr style=\"text-align: right;\">\n",
       "      <th></th>\n",
       "      <th>Close</th>\n",
       "      <th>EquityPriceReturns</th>\n",
       "      <th>PositiveReturn</th>\n",
       "      <th>BAMLH0A0HYM2</th>\n",
       "      <th>BAMLC0A0CM</th>\n",
       "      <th>BAMLC0A4CBBB</th>\n",
       "      <th>BAMLH0A1HYBB</th>\n",
       "      <th>BAMLH0A3HYC</th>\n",
       "    </tr>\n",
       "    <tr>\n",
       "      <th>Date</th>\n",
       "      <th></th>\n",
       "      <th></th>\n",
       "      <th></th>\n",
       "      <th></th>\n",
       "      <th></th>\n",
       "      <th></th>\n",
       "      <th></th>\n",
       "      <th></th>\n",
       "    </tr>\n",
       "  </thead>\n",
       "  <tbody>\n",
       "    <tr>\n",
       "      <th>2011-10-18</th>\n",
       "      <td>100.929893</td>\n",
       "      <td>0.019546</td>\n",
       "      <td>1</td>\n",
       "      <td>-0.001269</td>\n",
       "      <td>0.000000</td>\n",
       "      <td>-0.003344</td>\n",
       "      <td>-0.001684</td>\n",
       "      <td>0.004383</td>\n",
       "    </tr>\n",
       "    <tr>\n",
       "      <th>2011-10-19</th>\n",
       "      <td>99.735985</td>\n",
       "      <td>-0.011829</td>\n",
       "      <td>0</td>\n",
       "      <td>-0.021601</td>\n",
       "      <td>-0.024096</td>\n",
       "      <td>-0.016779</td>\n",
       "      <td>-0.021922</td>\n",
       "      <td>-0.024000</td>\n",
       "    </tr>\n",
       "    <tr>\n",
       "      <th>2011-10-20</th>\n",
       "      <td>100.172394</td>\n",
       "      <td>0.004376</td>\n",
       "      <td>1</td>\n",
       "      <td>-0.007792</td>\n",
       "      <td>-0.004115</td>\n",
       "      <td>-0.006826</td>\n",
       "      <td>-0.010345</td>\n",
       "      <td>-0.005216</td>\n",
       "    </tr>\n",
       "    <tr>\n",
       "      <th>2011-10-21</th>\n",
       "      <td>102.074387</td>\n",
       "      <td>0.018987</td>\n",
       "      <td>1</td>\n",
       "      <td>-0.023560</td>\n",
       "      <td>-0.016529</td>\n",
       "      <td>-0.010309</td>\n",
       "      <td>-0.022648</td>\n",
       "      <td>-0.022472</td>\n",
       "    </tr>\n",
       "    <tr>\n",
       "      <th>2011-10-24</th>\n",
       "      <td>103.325928</td>\n",
       "      <td>0.012261</td>\n",
       "      <td>1</td>\n",
       "      <td>-0.020107</td>\n",
       "      <td>-0.016807</td>\n",
       "      <td>-0.010417</td>\n",
       "      <td>-0.023173</td>\n",
       "      <td>-0.014559</td>\n",
       "    </tr>\n",
       "  </tbody>\n",
       "</table>\n",
       "</div>"
      ],
      "text/plain": [
       "                 Close  EquityPriceReturns  PositiveReturn  BAMLH0A0HYM2  \\\n",
       "Date                                                                       \n",
       "2011-10-18  100.929893            0.019546               1     -0.001269   \n",
       "2011-10-19   99.735985           -0.011829               0     -0.021601   \n",
       "2011-10-20  100.172394            0.004376               1     -0.007792   \n",
       "2011-10-21  102.074387            0.018987               1     -0.023560   \n",
       "2011-10-24  103.325928            0.012261               1     -0.020107   \n",
       "\n",
       "            BAMLC0A0CM  BAMLC0A4CBBB  BAMLH0A1HYBB  BAMLH0A3HYC  \n",
       "Date                                                             \n",
       "2011-10-18    0.000000     -0.003344     -0.001684     0.004383  \n",
       "2011-10-19   -0.024096     -0.016779     -0.021922    -0.024000  \n",
       "2011-10-20   -0.004115     -0.006826     -0.010345    -0.005216  \n",
       "2011-10-21   -0.016529     -0.010309     -0.022648    -0.022472  \n",
       "2011-10-24   -0.016807     -0.010417     -0.023173    -0.014559  "
      ]
     },
     "execution_count": 6,
     "metadata": {},
     "output_type": "execute_result"
    }
   ],
   "source": [
    "# Concatenate the equity and credit dataframes for modelling\n",
    "df_trading_signals = pd.concat([equity_data, X], axis='columns', join='inner')\n",
    "print(f'The DataFrame named \"df_trading_signals\" constructed to hold Equity closing price levels, Equity daily returns, indication of positive, 1, and negative, 0, Equity returns.\\n')\n",
    "print(f'\"df_trading_signals\" has a shape of {df_trading_signals.shape}\\n')\n",
    "df_trading_signals.to_csv('AutoOutputFiles/df_trading_signals_random_forest_version_0001.csv')\n",
    "df_trading_signals.head()"
   ]
  },
  {
   "cell_type": "code",
   "execution_count": 7,
   "id": "8a3081f3-5684-4f5e-8c6a-4626ab014010",
   "metadata": {},
   "outputs": [
    {
     "data": {
      "text/plain": [
       "Close                 0\n",
       "EquityPriceReturns    0\n",
       "PositiveReturn        0\n",
       "BAMLH0A0HYM2          0\n",
       "BAMLC0A0CM            0\n",
       "BAMLC0A4CBBB          0\n",
       "BAMLH0A1HYBB          0\n",
       "BAMLH0A3HYC           0\n",
       "dtype: int64"
      ]
     },
     "execution_count": 7,
     "metadata": {},
     "output_type": "execute_result"
    }
   ],
   "source": [
    "df_trading_signals.isnull().sum()"
   ]
  },
  {
   "cell_type": "markdown",
   "id": "db503868-35f1-4367-a898-049dbceae74a",
   "metadata": {},
   "source": [
    "## Model"
   ]
  },
  {
   "cell_type": "markdown",
   "id": "37972783-dd56-45d8-95c7-9c3b61732eb6",
   "metadata": {},
   "source": [
    "#### Assign Training and Testing Windows"
   ]
  },
  {
   "cell_type": "code",
   "execution_count": 8,
   "id": "61969314-4af9-4ee5-afb3-0aa80ad9e549",
   "metadata": {},
   "outputs": [],
   "source": [
    "training_start = df_trading_signals.index.min().strftime(format='%Y-%m-%d')\n",
    "training_end = '2018-12-14'\n",
    "testing_start = '2018-12-15'\n",
    "testing_end = df_trading_signals.index.max().strftime(format='%Y-%m-%d')"
   ]
  },
  {
   "cell_type": "markdown",
   "id": "957104db-9c9d-4130-9bdc-b7959d66f337",
   "metadata": {},
   "source": [
    "#### Define X and Y Training & Test Datasets"
   ]
  },
  {
   "cell_type": "code",
   "execution_count": 9,
   "id": "c929028e-0395-4072-b9a2-b4aa1fa7d4b5",
   "metadata": {},
   "outputs": [],
   "source": [
    "# Manually split train and test datasets\n",
    "# SK Learn library also exists for train test split, but following manual approach\n",
    "x_variables = ['BAMLH0A0HYM2', 'BAMLC0A0CM', 'BAMLC0A4CBBB','BAMLH0A1HYBB', 'BAMLH0A3HYC']\n",
    "\n",
    "x_train = df_trading_signals[x_variables][training_start:training_end]\n",
    "y_train = df_trading_signals['PositiveReturn'][training_start:training_end]\n",
    "#x_train.tail()\n",
    "#y_train.tail()"
   ]
  },
  {
   "cell_type": "code",
   "execution_count": 10,
   "id": "916f6392-9f1e-4902-b24f-e19b905a7eca",
   "metadata": {},
   "outputs": [],
   "source": [
    "# X and Y Testing Datasets\n",
    "x_test = df_trading_signals[x_variables][testing_start:testing_end]\n",
    "y_test = df_trading_signals['PositiveReturn'][testing_start:testing_end]\n",
    "#x_test.tail()\n",
    "#y_test.tail()"
   ]
  },
  {
   "cell_type": "markdown",
   "id": "2a675505-fcf0-409a-a683-04fe35bb78e7",
   "metadata": {},
   "source": [
    "#### RandomizedSearchCV"
   ]
  },
  {
   "cell_type": "code",
   "execution_count": 11,
   "id": "fdba37b9-6957-4dbe-9c59-948e306bdf38",
   "metadata": {},
   "outputs": [],
   "source": [
    "rfc = RandomForestClassifier(random_state=0)\n",
    "input_cv_value = 5\n",
    "input_random_state = 0\n",
    "input_return_train_score = True\n",
    "\n",
    "forest_params = [\n",
    "    {\n",
    "        'max_depth': list(range(9, 6001)), \n",
    "        'max_features': list(range(1,6)), \n",
    "        'n_estimators': list(range(1,1001)), \n",
    "        'min_samples_split': list(range(1,51))\n",
    "    }\n",
    "]\n",
    "\n",
    "rgs = RandomizedSearchCV(rfc, forest_params, cv=input_cv_value, scoring='accuracy', return_train_score=input_return_train_score)"
   ]
  },
  {
   "cell_type": "code",
   "execution_count": 12,
   "id": "acaf92e2-443c-4688-b4b3-8bf4b927da40",
   "metadata": {},
   "outputs": [
    {
     "data": {
      "text/plain": [
       "RandomizedSearchCV(cv=5, estimator=RandomForestClassifier(random_state=0),\n",
       "                   param_distributions=[{'max_depth': [9, 10, 11, 12, 13, 14,\n",
       "                                                       15, 16, 17, 18, 19, 20,\n",
       "                                                       21, 22, 23, 24, 25, 26,\n",
       "                                                       27, 28, 29, 30, 31, 32,\n",
       "                                                       33, 34, 35, 36, 37, 38, ...],\n",
       "                                         'max_features': [1, 2, 3, 4, 5],\n",
       "                                         'min_samples_split': [1, 2, 3, 4, 5, 6,\n",
       "                                                               7, 8, 9, 10, 11,\n",
       "                                                               12, 13, 14, 15,\n",
       "                                                               16, 17, 18, 19,\n",
       "                                                               20, 21, 22, 23,\n",
       "                                                               24, 25, 26, 27,\n",
       "                                                               28, 29, 30, ...],\n",
       "                                         'n_estimators': [1, 2, 3, 4, 5, 6, 7,\n",
       "                                                          8, 9, 10, 11, 12, 13,\n",
       "                                                          14, 15, 16, 17, 18,\n",
       "                                                          19, 20, 21, 22, 23,\n",
       "                                                          24, 25, 26, 27, 28,\n",
       "                                                          29, 30, ...]}],\n",
       "                   return_train_score=True, scoring='accuracy')"
      ]
     },
     "execution_count": 12,
     "metadata": {},
     "output_type": "execute_result"
    }
   ],
   "source": [
    "rgs.fit(x_train, y_train)"
   ]
  },
  {
   "cell_type": "markdown",
   "id": "26d2c5c6-31f0-4195-85f9-613fbe111e8e",
   "metadata": {},
   "source": [
    "#### cv_results_ Attributes \n",
    "#### https://scikit-learn.org/stable/modules/generated/sklearn.model_selection.RandomizedSearchCV.html\n",
    "#### cv_results_ = dict of numpy (masked) ndarrays: A dict with keys as column headers and values as columns, that can be imported into a pandas DataFrame."
   ]
  },
  {
   "cell_type": "code",
   "execution_count": 19,
   "id": "abd8a2a4-33f7-4dcf-bf9d-dffeb627fc58",
   "metadata": {},
   "outputs": [],
   "source": [
    "# Rather than using best_params_, multiple iterations are run and mean values for best_params_ are used for model parameter"
   ]
  },
  {
   "cell_type": "code",
   "execution_count": 20,
   "id": "f718c92e-25b6-4b8c-bb23-2316ad83a69e",
   "metadata": {},
   "outputs": [],
   "source": [
    "# best_params = dictionary\n",
    "best_params = rgs.best_params_\n",
    "#best_params"
   ]
  },
  {
   "cell_type": "code",
   "execution_count": 21,
   "id": "84d0aa99-3863-4c51-b69e-550a0da8253e",
   "metadata": {},
   "outputs": [
    {
     "data": {
      "text/html": [
       "<div>\n",
       "<style scoped>\n",
       "    .dataframe tbody tr th:only-of-type {\n",
       "        vertical-align: middle;\n",
       "    }\n",
       "\n",
       "    .dataframe tbody tr th {\n",
       "        vertical-align: top;\n",
       "    }\n",
       "\n",
       "    .dataframe thead th {\n",
       "        text-align: right;\n",
       "    }\n",
       "</style>\n",
       "<table border=\"1\" class=\"dataframe\">\n",
       "  <thead>\n",
       "    <tr style=\"text-align: right;\">\n",
       "      <th></th>\n",
       "      <th>n_estimators</th>\n",
       "      <th>min_samples_split</th>\n",
       "      <th>max_features</th>\n",
       "      <th>max_depth</th>\n",
       "      <th>run_date</th>\n",
       "    </tr>\n",
       "  </thead>\n",
       "  <tbody>\n",
       "    <tr>\n",
       "      <th>0</th>\n",
       "      <td>95</td>\n",
       "      <td>38</td>\n",
       "      <td>4</td>\n",
       "      <td>1029</td>\n",
       "      <td>2021_10_18</td>\n",
       "    </tr>\n",
       "  </tbody>\n",
       "</table>\n",
       "</div>"
      ],
      "text/plain": [
       "   n_estimators  min_samples_split  max_features  max_depth    run_date\n",
       "0            95                 38             4       1029  2021_10_18"
      ]
     },
     "execution_count": 21,
     "metadata": {},
     "output_type": "execute_result"
    }
   ],
   "source": [
    "# For the purpose of this project, only best_params will be retained for multuple iterations and analysis\n",
    "df_best_params = pd.DataFrame.from_dict(best_params, orient = 'index')\n",
    "df_best_params = df_best_params.transpose()\n",
    "df_best_params['run_date'] = run_date\n",
    "fl_nm = 'df_best_params_' + run_date + '.csv'\n",
    "df_best_params.to_csv('AutoOutputFiles/' + fl_nm)\n",
    "df_best_params"
   ]
  },
  {
   "cell_type": "code",
   "execution_count": 18,
   "id": "fe7c38ea-8bee-4b39-b6b6-182f20dda4ca",
   "metadata": {},
   "outputs": [],
   "source": [
    "#https://scikit-learn.org/stable/auto_examples/model_selection/plot_multi_metric_evaluation.html#sphx-glr-auto-examples-model-selection-plot-multi-metric-evaluation-py"
   ]
  }
 ],
 "metadata": {
  "kernelspec": {
   "display_name": "Python 3 (ipykernel)",
   "language": "python",
   "name": "python3"
  },
  "language_info": {
   "codemirror_mode": {
    "name": "ipython",
    "version": 3
   },
   "file_extension": ".py",
   "mimetype": "text/x-python",
   "name": "python",
   "nbconvert_exporter": "python",
   "pygments_lexer": "ipython3",
   "version": "3.7.10"
  }
 },
 "nbformat": 4,
 "nbformat_minor": 5
}
