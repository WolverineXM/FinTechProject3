{
 "cells": [
  {
   "cell_type": "markdown",
   "id": "350bf761-ae6d-425d-86f6-642957caf959",
   "metadata": {},
   "source": [
    "# Random Forest Classifier Manual Version To Aid Automated Development\n",
    "### Determine optimal model parameters using RandomizedSearchCV"
   ]
  },
  {
   "cell_type": "code",
   "execution_count": null,
   "id": "6f96c045-2f13-47f3-a47a-391dca5b323e",
   "metadata": {},
   "outputs": [],
   "source": [
    "# Model Resource:\n",
    "# https://scikit-learn.org/stable/modules/generated/sklearn.model_selection.RandomizedSearchCV.html\n",
    "# https://scikit-learn.org/stable/modules/generated/sklearn.ensemble.RandomForestClassifier.html\n",
    "# https://www.analyticsvidhya.com/blog/2021/06/tune-hyperparameters-with-gridsearchcv/\n",
    "# https://scikit-learn.org/stable/modules/generated/sklearn.model_selection.GridSearchCV.html\n",
    "# https://scikit-learn.org/stable/glossary.html\n",
    "# https://scikit-learn.org/stable/glossary.html#term-CV-splitter\n",
    "# https://towardsdatascience.com/hyperparameter-tuning-the-random-forest-in-python-using-scikit-learn-28d2aa77dd74"
   ]
  },
  {
   "cell_type": "code",
   "execution_count": null,
   "id": "584eff6e-e467-45a4-8e67-fb20ecd5a1f4",
   "metadata": {},
   "outputs": [],
   "source": [
    "# Feature Set Variables\n",
    "# ICE BofA US High Yield Index Option-Adjusted Spread (BAMLH0A0HYM2)\n",
    "# ICE BofA US Corporate Index Option-Adjusted Spread (BAMLC0A0CM)\n",
    "# ICE BofA BBB US Corporate Index Option-Adjusted Spread (BAMLC0A4CBBB)\n",
    "# ICE BofA BB US High Yield Index Option-Adjusted Spread (BAMLH0A1HYBB)\n",
    "# ICE BofA CCC & Lower US High Yield Index Option-Adjusted Spread (BAMLH0A3HYC)"
   ]
  },
  {
   "cell_type": "code",
   "execution_count": 138,
   "id": "39b3d1fc-733c-4393-a8e0-7cba31c607ff",
   "metadata": {},
   "outputs": [],
   "source": [
    "import warnings\n",
    "import pandas as pd\n",
    "import numpy as np\n",
    "from pathlib import Path\n",
    "import time\n",
    "import datetime\n",
    "import hvplot.pandas\n",
    "#Import SKLearn Library and CLasses\n",
    "from sklearn.ensemble import RandomForestClassifier\n",
    "from sklearn.model_selection import train_test_split\n",
    "from sklearn.model_selection import GridSearchCV, RandomizedSearchCV\n",
    "from sklearn.datasets import make_classification\n",
    "from sklearn import metrics"
   ]
  },
  {
   "cell_type": "code",
   "execution_count": 139,
   "id": "3a14b32b-ed92-48a6-a722-c0e444fbd0d2",
   "metadata": {},
   "outputs": [],
   "source": [
    "start_time = time.time()\n",
    "run_date = datetime.datetime.now().strftime('%Y_%m_%d')"
   ]
  },
  {
   "cell_type": "code",
   "execution_count": null,
   "id": "03a2a3de-cd4d-44d4-b088-105abf76ef95",
   "metadata": {},
   "outputs": [],
   "source": [
    "warnings.filterwarnings('ignore')"
   ]
  },
  {
   "cell_type": "code",
   "execution_count": null,
   "id": "4ba7bfb1-b4ec-48a2-82b6-956b23275fd8",
   "metadata": {},
   "outputs": [],
   "source": [
    "# Open signals file for feature set\n",
    "# ALERT:  In and Out of Sample for feature lag is dependent on lag (.shift)\n",
    "#         i.e. if Lag = 5 Days then feature values from T to T-4 are out of sample, however if lag = 4 Days, then only T to T-3 are out of sample\n",
    "#         Future enhancement will allow for this required logic for automated approach\n",
    "feature_set_pct_path = Path('AutoOutputFiles/df_key_credit_data_usa_adjusted_pct.csv')\n",
    "X = pd.read_csv(feature_set_pct_path, index_col=\"Date\", infer_datetime_format=True, parse_dates=True)\n",
    "X.head()"
   ]
  },
  {
   "cell_type": "code",
   "execution_count": null,
   "id": "48007dd2-ac1c-4622-a682-e2f260cde400",
   "metadata": {},
   "outputs": [],
   "source": [
    "# Construct a data frame for equity security (target/dependent variable)\n",
    "# NB:  Control of in and out of sample is easier for target set as no lags exist\n",
    "tareget_set_levels_path = Path('ManualFiles/df_key_credit_data_usa_adjusted_pct_in_sample_end.csv')\n",
    "equity_data = pd.read_csv(tareget_set_levels_path, index_col=\"Date\", infer_datetime_format=True, parse_dates=True)\n",
    "equity_data.head()"
   ]
  },
  {
   "cell_type": "code",
   "execution_count": null,
   "id": "19b9d3fa-c2bb-48eb-b041-d56c73e505c6",
   "metadata": {},
   "outputs": [],
   "source": [
    "# Concatenate the equity and credit dataframes for modelling\n",
    "df_trading_signals = pd.concat([equity_data, X], axis='columns', join='inner')\n",
    "print(f'The DataFrame named \"df_trading_signals\" constructed to hold Equity closing price levels, Equity daily returns, indication of positive, 1, and negative, 0, Equity returns.\\n')\n",
    "print(f'\"df_trading_signals\" has a shape of {df_trading_signals.shape}\\n')\n",
    "df_trading_signals.to_csv('AutoOutputFiles/df_trading_signals_random_forest_version_0001.csv')\n",
    "df_trading_signals.head()"
   ]
  },
  {
   "cell_type": "code",
   "execution_count": null,
   "id": "8a3081f3-5684-4f5e-8c6a-4626ab014010",
   "metadata": {},
   "outputs": [],
   "source": [
    "df_trading_signals.isnull().sum()"
   ]
  },
  {
   "cell_type": "markdown",
   "id": "db503868-35f1-4367-a898-049dbceae74a",
   "metadata": {},
   "source": [
    "## Model"
   ]
  },
  {
   "cell_type": "markdown",
   "id": "37972783-dd56-45d8-95c7-9c3b61732eb6",
   "metadata": {},
   "source": [
    "#### Assign Training and Testing Windows"
   ]
  },
  {
   "cell_type": "code",
   "execution_count": null,
   "id": "61969314-4af9-4ee5-afb3-0aa80ad9e549",
   "metadata": {},
   "outputs": [],
   "source": [
    "training_start = df_trading_signals.index.min().strftime(format='%Y-%m-%d')\n",
    "training_end = '2018-12-14'\n",
    "testing_start = '2018-12-15'\n",
    "testing_end = df_trading_signals.index.max().strftime(format='%Y-%m-%d')"
   ]
  },
  {
   "cell_type": "markdown",
   "id": "957104db-9c9d-4130-9bdc-b7959d66f337",
   "metadata": {},
   "source": [
    "#### Define X and Y Training & Test Datasets"
   ]
  },
  {
   "cell_type": "code",
   "execution_count": null,
   "id": "c929028e-0395-4072-b9a2-b4aa1fa7d4b5",
   "metadata": {},
   "outputs": [],
   "source": [
    "# Manually split train and test datasets\n",
    "# SK Learn library also exists for train test split, but following manual approach\n",
    "x_variables = ['BAMLH0A0HYM2', 'BAMLC0A0CM', 'BAMLC0A4CBBB','BAMLH0A1HYBB', 'BAMLH0A3HYC']\n",
    "\n",
    "x_train = df_trading_signals[x_variables][training_start:training_end]\n",
    "y_train = df_trading_signals['PositiveReturn'][training_start:training_end]\n",
    "#x_train.tail()\n",
    "#y_train.tail()"
   ]
  },
  {
   "cell_type": "code",
   "execution_count": null,
   "id": "916f6392-9f1e-4902-b24f-e19b905a7eca",
   "metadata": {},
   "outputs": [],
   "source": [
    "# X and Y Testing Datasets\n",
    "x_test = df_trading_signals[x_variables][testing_start:testing_end]\n",
    "y_test = df_trading_signals['PositiveReturn'][testing_start:testing_end]\n",
    "#x_test.tail()\n",
    "#y_test.tail()"
   ]
  },
  {
   "cell_type": "code",
   "execution_count": null,
   "id": "764099b5-1b9f-4dd7-ba00-95538c5dd3da",
   "metadata": {},
   "outputs": [],
   "source": [
    "# Model parameters with default values for reference purposes\n",
    "msg = ''\n",
    "msg +=('class sklearn.ensemble.RandomForestClassifier(\\n')\n",
    "msg +=('    n_estimators=100, \\n')\n",
    "msg +=('    *, \\n')\n",
    "msg +=('    criterion=\"gini\", \\n')\n",
    "msg +=('    max_depth=None, \\n')\n",
    "msg +=('    min_samples_split=2, \\n')\n",
    "msg +=('    min_samples_leaf=1, \\n')\n",
    "msg +=('    min_weight_fraction_leaf=0.0, \\n')\n",
    "msg +=('    max_features=\"auto\", \\n')\n",
    "msg +=('    max_leaf_nodes=None, \\n')\n",
    "msg +=('    min_impurity_decrease=0.0, \\n')\n",
    "msg +=('    bootstrap=True, \\n')\n",
    "msg +=('    oob_score=False, \\n')\n",
    "msg +=('    n_jobs=None, \\n')\n",
    "msg +=('    random_state=None, \\n')\n",
    "msg +=('    verbose=0, \\n')\n",
    "msg +=('    warm_start=False, \\n')\n",
    "msg +=('    class_weight=None, \\n')\n",
    "msg +=('    ccp_alpha=0.0, \\n')\n",
    "msg +=('    max_samples=None \\n')\n",
    "msg +=(')')\n",
    "print(msg)"
   ]
  },
  {
   "cell_type": "code",
   "execution_count": null,
   "id": "de4fb6a6-8c90-4889-ba55-3993e5ac7e94",
   "metadata": {},
   "outputs": [],
   "source": [
    "#### RandomizedSearchCV"
   ]
  },
  {
   "cell_type": "code",
   "execution_count": null,
   "id": "fdba37b9-6957-4dbe-9c59-948e306bdf38",
   "metadata": {},
   "outputs": [],
   "source": [
    "rfc = RandomForestClassifier(random_state=0)\n",
    "input_cv_value = 5\n",
    "input_random_state = 0\n",
    "input_return_train_score = True\n",
    "\n",
    "forest_params = [\n",
    "    {\n",
    "        'max_depth': list(range(9, 6001)), \n",
    "        'max_features': list(range(1,6)), \n",
    "        'n_estimators': list(range(1,1001)), \n",
    "        'min_samples_split': list(range(1,51))\n",
    "    }\n",
    "]\n",
    "\n",
    "rgs = RandomizedSearchCV(rfc, forest_params, cv=input_cv_value, scoring='accuracy', return_train_score=input_return_train_score)"
   ]
  },
  {
   "cell_type": "code",
   "execution_count": null,
   "id": "acaf92e2-443c-4688-b4b3-8bf4b927da40",
   "metadata": {},
   "outputs": [],
   "source": [
    "rgs.fit(x_train, y_train)"
   ]
  },
  {
   "cell_type": "code",
   "execution_count": null,
   "id": "5ba99836-1f49-49e3-8650-5a9dcdd50644",
   "metadata": {},
   "outputs": [],
   "source": [
    "#### cv_results_ Attributes \n",
    "#### https://scikit-learn.org/stable/modules/generated/sklearn.model_selection.RandomizedSearchCV.html\n",
    "#### cv_results_ = dict of numpy (masked) ndarrays: A dict with keys as column headers and values as columns, that can be imported into a pandas DataFrame."
   ]
  },
  {
   "cell_type": "code",
   "execution_count": 133,
   "id": "76a9634d-1d2d-4644-b69d-1cde38941365",
   "metadata": {},
   "outputs": [
    {
     "name": "stdout",
     "output_type": "stream",
     "text": [
      "make_scorer(accuracy_score)\n"
     ]
    }
   ],
   "source": [
    "print(rgs.scorer_)"
   ]
  },
  {
   "cell_type": "code",
   "execution_count": 134,
   "id": "daa76b85-6301-49ac-a50b-eec4e04048f7",
   "metadata": {},
   "outputs": [
    {
     "data": {
      "text/plain": [
       "array([0.62562008, 0.62226187, 0.63178098, 0.60658811, 0.64465988,\n",
       "       0.63793249, 0.63961003, 0.64858614, 0.64130323, 0.61778164])"
      ]
     },
     "execution_count": 134,
     "metadata": {},
     "output_type": "execute_result"
    }
   ],
   "source": [
    "mean_test_score = rgs.cv_results_['mean_test_score']\n",
    "mean_test_score"
   ]
  },
  {
   "cell_type": "code",
   "execution_count": 135,
   "id": "230edbdb-2c1d-4713-98b2-c97c5aaac3b2",
   "metadata": {},
   "outputs": [
    {
     "data": {
      "text/plain": [
       "array([0.82176856, 0.82876343, 0.81043568, 0.97467778, 0.81197522,\n",
       "       0.79518662, 0.78679286, 0.77504206, 0.80120266, 0.85702252])"
      ]
     },
     "execution_count": 135,
     "metadata": {},
     "output_type": "execute_result"
    }
   ],
   "source": [
    "mean_train_score = rgs.cv_results_['mean_train_score']\n",
    "mean_train_score"
   ]
  },
  {
   "cell_type": "code",
   "execution_count": 123,
   "id": "3a6e5daf-3d11-44f0-ab3c-92eddfb8063e",
   "metadata": {},
   "outputs": [
    {
     "data": {
      "text/plain": [
       "array([0.02135153, 0.01515242, 0.01376473, 0.02034687, 0.01969548,\n",
       "       0.01763638, 0.01900541, 0.02524905, 0.01650664, 0.01248712])"
      ]
     },
     "execution_count": 123,
     "metadata": {},
     "output_type": "execute_result"
    }
   ],
   "source": [
    "std_test_score = rgs.cv_results_['std_test_score']\n",
    "std_test_score"
   ]
  },
  {
   "cell_type": "code",
   "execution_count": 124,
   "id": "4cb7c5c5-6ea9-4b96-bb43-b1f9b7d33ac6",
   "metadata": {},
   "outputs": [],
   "source": [
    "# params = list of dictionaries\n",
    "params = rgs.cv_results_['params']\n",
    "#params"
   ]
  },
  {
   "cell_type": "code",
   "execution_count": 125,
   "id": "b81880b7-e72a-4913-b092-b2168da82ebe",
   "metadata": {},
   "outputs": [
    {
     "name": "stdout",
     "output_type": "stream",
     "text": [
      "{'n_estimators': 917, 'min_samples_split': 31, 'max_features': 3, 'max_depth': 5807}\n",
      "{'n_estimators': 864, 'min_samples_split': 29, 'max_features': 3, 'max_depth': 5360}\n",
      "{'n_estimators': 423, 'min_samples_split': 37, 'max_features': 4, 'max_depth': 76}\n",
      "{'n_estimators': 533, 'min_samples_split': 7, 'max_features': 3, 'max_depth': 3736}\n",
      "{'n_estimators': 989, 'min_samples_split': 31, 'max_features': 1, 'max_depth': 2948}\n",
      "{'n_estimators': 834, 'min_samples_split': 45, 'max_features': 5, 'max_depth': 521}\n",
      "{'n_estimators': 571, 'min_samples_split': 49, 'max_features': 5, 'max_depth': 4483}\n",
      "{'n_estimators': 830, 'min_samples_split': 49, 'max_features': 1, 'max_depth': 3301}\n",
      "{'n_estimators': 852, 'min_samples_split': 39, 'max_features': 2, 'max_depth': 2211}\n",
      "{'n_estimators': 800, 'min_samples_split': 23, 'max_features': 5, 'max_depth': 3656}\n"
     ]
    }
   ],
   "source": [
    "for i in params:\n",
    "    print(i)"
   ]
  },
  {
   "cell_type": "code",
   "execution_count": 126,
   "id": "826d23a7-87c5-4314-b74f-d4b06664c57e",
   "metadata": {},
   "outputs": [
    {
     "name": "stdout",
     "output_type": "stream",
     "text": [
      "2.177744483947754\n",
      "2.080293321609497\n",
      "1.169199562072754\n",
      "1.4280962467193603\n",
      "1.5714008808135986\n",
      "2.5383947849273683\n",
      "1.7018844604492187\n",
      "1.249212121963501\n",
      "1.645448875427246\n",
      "2.6443511962890627\n"
     ]
    }
   ],
   "source": [
    "# The mean_fit_time, std_fit_time, mean_score_time and std_score_time are all in seconds.\n",
    "# https://scikit-learn.org/stable/modules/generated/sklearn.model_selection.RandomizedSearchCV.html\n",
    "\n",
    "mean_fit_time = rgs.cv_results_['mean_fit_time']\n",
    "mean_fit_time\n",
    "for i in mean_fit_time:\n",
    "    print(i)"
   ]
  },
  {
   "cell_type": "code",
   "execution_count": 127,
   "id": "f718c92e-25b6-4b8c-bb23-2316ad83a69e",
   "metadata": {},
   "outputs": [],
   "source": [
    "# best_params = dictionary\n",
    "best_params = rgs.best_params_\n",
    "#best_params"
   ]
  },
  {
   "cell_type": "code",
   "execution_count": 128,
   "id": "f9af9665-10b1-41ce-b4ec-bdb69496a49c",
   "metadata": {},
   "outputs": [
    {
     "name": "stdout",
     "output_type": "stream",
     "text": [
      "n_estimators -> 830\n",
      "min_samples_split -> 49\n",
      "max_features -> 1\n",
      "max_depth -> 3301\n"
     ]
    }
   ],
   "source": [
    "for key in best_params:\n",
    "    print(key, '->', best_params[key])"
   ]
  },
  {
   "cell_type": "code",
   "execution_count": 142,
   "id": "84d0aa99-3863-4c51-b69e-550a0da8253e",
   "metadata": {},
   "outputs": [
    {
     "data": {
      "text/html": [
       "<div>\n",
       "<style scoped>\n",
       "    .dataframe tbody tr th:only-of-type {\n",
       "        vertical-align: middle;\n",
       "    }\n",
       "\n",
       "    .dataframe tbody tr th {\n",
       "        vertical-align: top;\n",
       "    }\n",
       "\n",
       "    .dataframe thead th {\n",
       "        text-align: right;\n",
       "    }\n",
       "</style>\n",
       "<table border=\"1\" class=\"dataframe\">\n",
       "  <thead>\n",
       "    <tr style=\"text-align: right;\">\n",
       "      <th></th>\n",
       "      <th>n_estimators</th>\n",
       "      <th>min_samples_split</th>\n",
       "      <th>max_features</th>\n",
       "      <th>max_depth</th>\n",
       "      <th>run_date</th>\n",
       "    </tr>\n",
       "  </thead>\n",
       "  <tbody>\n",
       "    <tr>\n",
       "      <th>0</th>\n",
       "      <td>830</td>\n",
       "      <td>49</td>\n",
       "      <td>1</td>\n",
       "      <td>3301</td>\n",
       "      <td>2021_10_18</td>\n",
       "    </tr>\n",
       "  </tbody>\n",
       "</table>\n",
       "</div>"
      ],
      "text/plain": [
       "   n_estimators  min_samples_split  max_features  max_depth    run_date\n",
       "0           830                 49             1       3301  2021_10_18"
      ]
     },
     "execution_count": 142,
     "metadata": {},
     "output_type": "execute_result"
    }
   ],
   "source": [
    "# For the purpose of this project, only best_params will be retained for multuple iterations and analysis\n",
    "df_best_params = pd.DataFrame.from_dict(best_params, orient = 'index')\n",
    "df_best_params = df_best_params.transpose()\n",
    "df_best_params['run_date'] = run_date\n",
    "fl_nm = 'df_best_params_' + run_date + '.csv'\n",
    "df_best_params.to_csv('AutoOutputFiles/' + fl_nm)\n",
    "df_best_params"
   ]
  },
  {
   "cell_type": "code",
   "execution_count": 130,
   "id": "bddcf0ed-5992-49ba-9fca-1831c1413f49",
   "metadata": {},
   "outputs": [
    {
     "data": {
      "text/plain": [
       "RandomForestClassifier(max_depth=3301, max_features=1, min_samples_split=49,\n",
       "                       n_estimators=830, random_state=0)"
      ]
     },
     "execution_count": 130,
     "metadata": {},
     "output_type": "execute_result"
    }
   ],
   "source": [
    "# best_estimator_: estimator\n",
    "# Estimator that was chosen by the search, i.e. estimator which gave highest score (or smallest loss if specified) on the left out data. Not available if refit=False.\n",
    "\n",
    "rgs.best_estimator_"
   ]
  },
  {
   "cell_type": "code",
   "execution_count": 131,
   "id": "9aeec751-8b52-42cf-89b0-7f3a3390f530",
   "metadata": {},
   "outputs": [
    {
     "data": {
      "text/plain": [
       "0.6485861383659609"
      ]
     },
     "execution_count": 131,
     "metadata": {},
     "output_type": "execute_result"
    }
   ],
   "source": [
    "# best_score_: float\n",
    "# Mean cross-validated score of the best_estimator.\n",
    "# For multi-metric evaluation, this is not available if refit is False. See refit parameter for more information.\n",
    "# This attribute is not available if refit is a function.\n",
    "\n",
    "rgs.best_score_"
   ]
  },
  {
   "cell_type": "code",
   "execution_count": 132,
   "id": "e71c4093-8352-4e97-9841-55fa26f05577",
   "metadata": {},
   "outputs": [
    {
     "data": {
      "text/plain": [
       "7"
      ]
     },
     "execution_count": 132,
     "metadata": {},
     "output_type": "execute_result"
    }
   ],
   "source": [
    "rgs.best_index_"
   ]
  },
  {
   "cell_type": "code",
   "execution_count": null,
   "id": "cbdd8f72-5a07-4d26-a5c8-85c931582edb",
   "metadata": {},
   "outputs": [],
   "source": [
    "# Can use best_index to return index of highest test score index or rank_test_score for sorted list\n",
    "rank_test_score = rgs.cv_results_['rank_test_score']\n",
    "rank_test_score"
   ]
  },
  {
   "cell_type": "code",
   "execution_count": null,
   "id": "c5874c40-ec8f-47ac-bb22-765c83d66158",
   "metadata": {},
   "outputs": [],
   "source": [
    "print(f'The best score of {rgs.best_score_} is found within the mean_test_score array at index = {rgs.best_index_}')"
   ]
  },
  {
   "cell_type": "code",
   "execution_count": null,
   "id": "095155fc-3142-43de-9eed-930aacc0d1f6",
   "metadata": {},
   "outputs": [],
   "source": [
    "end_time = time.time()\n",
    "run_time = end_time - start_time\n",
    "print(f'It took {run_time} seconds to above process.')"
   ]
  },
  {
   "cell_type": "code",
   "execution_count": null,
   "id": "d9b1ed6c-a4f6-4942-9d0b-fb0d64287db5",
   "metadata": {},
   "outputs": [],
   "source": [
    "# All data in cv_results\n",
    "print(rgs.cv_results_)"
   ]
  },
  {
   "cell_type": "code",
   "execution_count": null,
   "id": "20a3b935-f9d1-4998-a1cd-3806266e06ff",
   "metadata": {},
   "outputs": [],
   "source": [
    "#https://www.codegrepper.com/code-examples/python/how+to+improve+accuracy+of+random+forest+classifier\n",
    "def display(results):\n",
    "    print(f'Best parameters are: {results.best_params_}')\n",
    "    print(\"\\n\")\n",
    "    mean_score = results.cv_results_['mean_test_score']\n",
    "    std_score = results.cv_results_['std_test_score']\n",
    "    params = results.cv_results_['params']\n",
    "    for mean,std,params in zip(mean_score,std_score,params):\n",
    "        print(f'{round(mean,3)} + or -{round(std,3)} for the {params}')"
   ]
  },
  {
   "cell_type": "code",
   "execution_count": null,
   "id": "fe7c38ea-8bee-4b39-b6b6-182f20dda4ca",
   "metadata": {},
   "outputs": [],
   "source": [
    "#https://scikit-learn.org/stable/auto_examples/model_selection/plot_multi_metric_evaluation.html#sphx-glr-auto-examples-model-selection-plot-multi-metric-evaluation-py"
   ]
  }
 ],
 "metadata": {
  "kernelspec": {
   "display_name": "Python 3 (ipykernel)",
   "language": "python",
   "name": "python3"
  },
  "language_info": {
   "codemirror_mode": {
    "name": "ipython",
    "version": 3
   },
   "file_extension": ".py",
   "mimetype": "text/x-python",
   "name": "python",
   "nbconvert_exporter": "python",
   "pygments_lexer": "ipython3",
   "version": "3.7.10"
  }
 },
 "nbformat": 4,
 "nbformat_minor": 5
}
