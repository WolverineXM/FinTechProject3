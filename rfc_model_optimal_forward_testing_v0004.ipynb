{
 "cells": [
  {
   "cell_type": "code",
   "execution_count": 1,
   "id": "0e040e78-a40d-4470-8772-05f4d5529f87",
   "metadata": {},
   "outputs": [],
   "source": [
    "import warnings\n",
    "warnings.filterwarnings('ignore')\n",
    "\n",
    "import pandas as pd\n",
    "import numpy as np\n",
    "from pathlib import Path\n",
    "import datetime\n",
    "from joblib import dump, load\n",
    "import joblib"
   ]
  },
  {
   "cell_type": "code",
   "execution_count": null,
   "id": "3edb7c9e-1ae8-470a-bcd0-a02786d54c1c",
   "metadata": {},
   "outputs": [],
   "source": [
    "# Resource for saving and loading sklearn models:  https://mljar.com/blog/save-load-random-forest/"
   ]
  },
  {
   "cell_type": "code",
   "execution_count": 2,
   "id": "312405ad-a0df-42c9-9beb-72efcadb71c8",
   "metadata": {},
   "outputs": [],
   "source": [
    "# Feature Set\n",
    "# ICE BofA US High Yield Index Option-Adjusted Spread (BAMLH0A0HYM2)\n",
    "# ICE BofA US Corporate Index Option-Adjusted Spread (BAMLC0A0CM)\n",
    "# ICE BofA BBB US Corporate Index Option-Adjusted Spread (BAMLC0A4CBBB)\n",
    "# ICE BofA BB US High Yield Index Option-Adjusted Spread (BAMLH0A1HYBB)\n",
    "# ICE BofA CCC & Lower US High Yield Index Option-Adjusted Spread (BAMLH0A3HYC)"
   ]
  },
  {
   "cell_type": "code",
   "execution_count": 3,
   "id": "65bbde06-2c45-423d-a3bc-b967260e714f",
   "metadata": {},
   "outputs": [],
   "source": [
    "# Run date included in data frame construction below\n",
    "run_date = datetime.datetime.now().strftime('%Y-%m-%d')"
   ]
  },
  {
   "cell_type": "code",
   "execution_count": 4,
   "id": "60fd3352-8be1-4efc-840a-eef0bb56fca1",
   "metadata": {},
   "outputs": [
    {
     "name": "stdout",
     "output_type": "stream",
     "text": [
      "Feature set on import:\n",
      "\n"
     ]
    },
    {
     "data": {
      "text/html": [
       "<div>\n",
       "<style scoped>\n",
       "    .dataframe tbody tr th:only-of-type {\n",
       "        vertical-align: middle;\n",
       "    }\n",
       "\n",
       "    .dataframe tbody tr th {\n",
       "        vertical-align: top;\n",
       "    }\n",
       "\n",
       "    .dataframe thead th {\n",
       "        text-align: right;\n",
       "    }\n",
       "</style>\n",
       "<table border=\"1\" class=\"dataframe\">\n",
       "  <thead>\n",
       "    <tr style=\"text-align: right;\">\n",
       "      <th></th>\n",
       "      <th>BAMLH0A0HYM2</th>\n",
       "      <th>BAMLC0A0CM</th>\n",
       "      <th>BAMLC0A4CBBB</th>\n",
       "      <th>BAMLH0A1HYBB</th>\n",
       "      <th>BAMLH0A3HYC</th>\n",
       "    </tr>\n",
       "    <tr>\n",
       "      <th>Date</th>\n",
       "      <th></th>\n",
       "      <th></th>\n",
       "      <th></th>\n",
       "      <th></th>\n",
       "      <th></th>\n",
       "    </tr>\n",
       "  </thead>\n",
       "  <tbody>\n",
       "    <tr>\n",
       "      <th>2021-10-12</th>\n",
       "      <td>0.025000</td>\n",
       "      <td>0.011111</td>\n",
       "      <td>0.009009</td>\n",
       "      <td>0.036036</td>\n",
       "      <td>0.013595</td>\n",
       "    </tr>\n",
       "    <tr>\n",
       "      <th>2021-10-13</th>\n",
       "      <td>-0.009146</td>\n",
       "      <td>0.000000</td>\n",
       "      <td>0.000000</td>\n",
       "      <td>-0.008696</td>\n",
       "      <td>-0.010432</td>\n",
       "    </tr>\n",
       "    <tr>\n",
       "      <th>2021-10-14</th>\n",
       "      <td>-0.021538</td>\n",
       "      <td>-0.010989</td>\n",
       "      <td>0.000000</td>\n",
       "      <td>-0.017544</td>\n",
       "      <td>-0.019578</td>\n",
       "    </tr>\n",
       "    <tr>\n",
       "      <th>2021-10-15</th>\n",
       "      <td>-0.018868</td>\n",
       "      <td>-0.011111</td>\n",
       "      <td>-0.017857</td>\n",
       "      <td>-0.035714</td>\n",
       "      <td>0.001536</td>\n",
       "    </tr>\n",
       "    <tr>\n",
       "      <th>2021-10-18</th>\n",
       "      <td>-0.003205</td>\n",
       "      <td>0.000000</td>\n",
       "      <td>0.000000</td>\n",
       "      <td>0.000000</td>\n",
       "      <td>-0.004601</td>\n",
       "    </tr>\n",
       "  </tbody>\n",
       "</table>\n",
       "</div>"
      ],
      "text/plain": [
       "            BAMLH0A0HYM2  BAMLC0A0CM  BAMLC0A4CBBB  BAMLH0A1HYBB  BAMLH0A3HYC\n",
       "Date                                                                         \n",
       "2021-10-12      0.025000    0.011111      0.009009      0.036036     0.013595\n",
       "2021-10-13     -0.009146    0.000000      0.000000     -0.008696    -0.010432\n",
       "2021-10-14     -0.021538   -0.010989      0.000000     -0.017544    -0.019578\n",
       "2021-10-15     -0.018868   -0.011111     -0.017857     -0.035714     0.001536\n",
       "2021-10-18     -0.003205    0.000000      0.000000      0.000000    -0.004601"
      ]
     },
     "execution_count": 4,
     "metadata": {},
     "output_type": "execute_result"
    }
   ],
   "source": [
    "# Import feature set data and construct the data frame\n",
    "feature_set_pct_path = Path('AutoOutputFiles/df_key_credit_data_usa_adjusted_pct.csv')\n",
    "df_feature_set = pd.read_csv(feature_set_pct_path, index_col=\"Date\", infer_datetime_format=True, parse_dates=True)\n",
    "\n",
    "# Uncomment if required for testing\n",
    "print(f'Feature set on import:\\n')\n",
    "df_feature_set.tail()"
   ]
  },
  {
   "cell_type": "code",
   "execution_count": 5,
   "id": "f09ec95a-7a0b-42b3-bfac-d3e40c1428d3",
   "metadata": {},
   "outputs": [],
   "source": [
    "# Feature set lag for Optimal Model\n",
    "optimal_model_lag = 30"
   ]
  },
  {
   "cell_type": "code",
   "execution_count": 6,
   "id": "a0e4e7ae-4cc0-4082-b896-517d1a3a66a4",
   "metadata": {},
   "outputs": [
    {
     "name": "stdout",
     "output_type": "stream",
     "text": [
      "The feature set is ready for forward testing\n",
      "The feature set was shifted by 30 days:\n",
      "\n",
      "Stated differently, we are using the T-minus 30 day feature set variable values for predictive purposes:\n",
      "\n"
     ]
    },
    {
     "data": {
      "text/html": [
       "<div>\n",
       "<style scoped>\n",
       "    .dataframe tbody tr th:only-of-type {\n",
       "        vertical-align: middle;\n",
       "    }\n",
       "\n",
       "    .dataframe tbody tr th {\n",
       "        vertical-align: top;\n",
       "    }\n",
       "\n",
       "    .dataframe thead th {\n",
       "        text-align: right;\n",
       "    }\n",
       "</style>\n",
       "<table border=\"1\" class=\"dataframe\">\n",
       "  <thead>\n",
       "    <tr style=\"text-align: right;\">\n",
       "      <th></th>\n",
       "      <th>BAMLH0A0HYM2</th>\n",
       "      <th>BAMLC0A0CM</th>\n",
       "      <th>BAMLC0A4CBBB</th>\n",
       "      <th>BAMLH0A1HYBB</th>\n",
       "      <th>BAMLH0A3HYC</th>\n",
       "    </tr>\n",
       "    <tr>\n",
       "      <th>Date</th>\n",
       "      <th></th>\n",
       "      <th></th>\n",
       "      <th></th>\n",
       "      <th></th>\n",
       "      <th></th>\n",
       "    </tr>\n",
       "  </thead>\n",
       "  <tbody>\n",
       "    <tr>\n",
       "      <th>1997-02-13</th>\n",
       "      <td>-0.022364</td>\n",
       "      <td>0.000000</td>\n",
       "      <td>0.000000</td>\n",
       "      <td>-0.015385</td>\n",
       "      <td>-0.013550</td>\n",
       "    </tr>\n",
       "    <tr>\n",
       "      <th>1997-02-14</th>\n",
       "      <td>0.009804</td>\n",
       "      <td>0.016667</td>\n",
       "      <td>0.000000</td>\n",
       "      <td>0.010417</td>\n",
       "      <td>0.012363</td>\n",
       "    </tr>\n",
       "    <tr>\n",
       "      <th>1997-02-18</th>\n",
       "      <td>0.003236</td>\n",
       "      <td>0.000000</td>\n",
       "      <td>0.024096</td>\n",
       "      <td>0.000000</td>\n",
       "      <td>-0.001357</td>\n",
       "    </tr>\n",
       "    <tr>\n",
       "      <th>1997-02-19</th>\n",
       "      <td>0.000000</td>\n",
       "      <td>0.000000</td>\n",
       "      <td>-0.011765</td>\n",
       "      <td>-0.005155</td>\n",
       "      <td>0.000000</td>\n",
       "    </tr>\n",
       "    <tr>\n",
       "      <th>1997-02-20</th>\n",
       "      <td>-0.009677</td>\n",
       "      <td>-0.016393</td>\n",
       "      <td>-0.011905</td>\n",
       "      <td>-0.010363</td>\n",
       "      <td>-0.002717</td>\n",
       "    </tr>\n",
       "    <tr>\n",
       "      <th>...</th>\n",
       "      <td>...</td>\n",
       "      <td>...</td>\n",
       "      <td>...</td>\n",
       "      <td>...</td>\n",
       "      <td>...</td>\n",
       "    </tr>\n",
       "    <tr>\n",
       "      <th>2021-10-12</th>\n",
       "      <td>0.015823</td>\n",
       "      <td>0.000000</td>\n",
       "      <td>0.000000</td>\n",
       "      <td>0.009132</td>\n",
       "      <td>0.039370</td>\n",
       "    </tr>\n",
       "    <tr>\n",
       "      <th>2021-10-13</th>\n",
       "      <td>-0.006231</td>\n",
       "      <td>0.000000</td>\n",
       "      <td>0.000000</td>\n",
       "      <td>-0.013575</td>\n",
       "      <td>-0.009091</td>\n",
       "    </tr>\n",
       "    <tr>\n",
       "      <th>2021-10-14</th>\n",
       "      <td>-0.009404</td>\n",
       "      <td>0.000000</td>\n",
       "      <td>0.000000</td>\n",
       "      <td>-0.004587</td>\n",
       "      <td>0.003058</td>\n",
       "    </tr>\n",
       "    <tr>\n",
       "      <th>2021-10-15</th>\n",
       "      <td>-0.006329</td>\n",
       "      <td>0.000000</td>\n",
       "      <td>-0.008772</td>\n",
       "      <td>-0.009217</td>\n",
       "      <td>-0.012195</td>\n",
       "    </tr>\n",
       "    <tr>\n",
       "      <th>2021-10-18</th>\n",
       "      <td>-0.003185</td>\n",
       "      <td>0.000000</td>\n",
       "      <td>0.000000</td>\n",
       "      <td>-0.004651</td>\n",
       "      <td>0.000000</td>\n",
       "    </tr>\n",
       "  </tbody>\n",
       "</table>\n",
       "<p>6428 rows × 5 columns</p>\n",
       "</div>"
      ],
      "text/plain": [
       "            BAMLH0A0HYM2  BAMLC0A0CM  BAMLC0A4CBBB  BAMLH0A1HYBB  BAMLH0A3HYC\n",
       "Date                                                                         \n",
       "1997-02-13     -0.022364    0.000000      0.000000     -0.015385    -0.013550\n",
       "1997-02-14      0.009804    0.016667      0.000000      0.010417     0.012363\n",
       "1997-02-18      0.003236    0.000000      0.024096      0.000000    -0.001357\n",
       "1997-02-19      0.000000    0.000000     -0.011765     -0.005155     0.000000\n",
       "1997-02-20     -0.009677   -0.016393     -0.011905     -0.010363    -0.002717\n",
       "...                  ...         ...           ...           ...          ...\n",
       "2021-10-12      0.015823    0.000000      0.000000      0.009132     0.039370\n",
       "2021-10-13     -0.006231    0.000000      0.000000     -0.013575    -0.009091\n",
       "2021-10-14     -0.009404    0.000000      0.000000     -0.004587     0.003058\n",
       "2021-10-15     -0.006329    0.000000     -0.008772     -0.009217    -0.012195\n",
       "2021-10-18     -0.003185    0.000000      0.000000     -0.004651     0.000000\n",
       "\n",
       "[6428 rows x 5 columns]"
      ]
     },
     "execution_count": 6,
     "metadata": {},
     "output_type": "execute_result"
    }
   ],
   "source": [
    "print('The feature set is ready for forward testing')\n",
    "print(f'The feature set was shifted by {optimal_model_lag} days:\\n')\n",
    "print(f'Stated differently, we are using the T-minus {optimal_model_lag} day feature set variable values for predictive purposes:\\n')\n",
    "\n",
    "X_variables = ['BAMLH0A0HYM2', 'BAMLC0A0CM', 'BAMLC0A4CBBB', 'BAMLH0A1HYBB', 'BAMLH0A3HYC']\n",
    "X = df_feature_set[X_variables].shift(optimal_model_lag).dropna()\n",
    "X"
   ]
  },
  {
   "cell_type": "code",
   "execution_count": 7,
   "id": "7c51531d-af4b-4207-90c5-1e309cfcfd68",
   "metadata": {},
   "outputs": [
    {
     "name": "stdout",
     "output_type": "stream",
     "text": [
      "algo_optimal_parameters/back_test_using_mean_grid_values/Lag_30_random_forest_2021-10-15.joblib\n"
     ]
    }
   ],
   "source": [
    "# Define the last in-sample model version date\n",
    "# This represents the last in-sample testing date when the models were finalized\n",
    "# date format = YYYY-MM-DD\n",
    "finalized_model_period_end_date = '2021-10-15'\n",
    "\n",
    "# Construct the path & file name to use in loading the optimal lagged model\n",
    "optimal_model_fl_path = 'algo_optimal_parameters/back_test_using_mean_grid_values/Lag_' + str(optimal_model_lag) + '_random_forest_' + finalized_model_period_end_date + '.joblib'\n",
    "\n",
    "print(optimal_model_fl_path)"
   ]
  },
  {
   "cell_type": "code",
   "execution_count": 8,
   "id": "471b1a97-e03f-4655-b139-c13f905faf9e",
   "metadata": {},
   "outputs": [],
   "source": [
    "# load the model, no need to initialize the loaded_rf\n",
    "loaded_rfc = joblib.load(optimal_model_fl_path)"
   ]
  },
  {
   "cell_type": "code",
   "execution_count": 9,
   "id": "d598e50d-2f6b-4a92-839d-ba7edb4f04e4",
   "metadata": {},
   "outputs": [
    {
     "data": {
      "text/plain": [
       "6428"
      ]
     },
     "execution_count": 9,
     "metadata": {},
     "output_type": "execute_result"
    }
   ],
   "source": [
    "# Make predictions for the target (equity)\n",
    "predictions = loaded_rfc.predict(X)\n",
    "predictions\n",
    "\n",
    "# Uncomment for length and data type for predictions\n",
    "# \"predictions\" should result equal a numpy.ndarray with dtype=int64\n",
    "len(predictions)\n",
    "#type(predictions)"
   ]
  },
  {
   "cell_type": "code",
   "execution_count": 10,
   "id": "cea946f7-a279-4208-801f-dfa22f5ebaa4",
   "metadata": {},
   "outputs": [
    {
     "data": {
      "text/plain": [
       "array([1, 1, 1, ..., 0, 1, 1], dtype=int64)"
      ]
     },
     "execution_count": 10,
     "metadata": {},
     "output_type": "execute_result"
    }
   ],
   "source": [
    "predictions"
   ]
  },
  {
   "cell_type": "code",
   "execution_count": 11,
   "id": "278172aa-a668-4ac3-ab54-2467eb3546b9",
   "metadata": {},
   "outputs": [
    {
     "name": "stdout",
     "output_type": "stream",
     "text": [
      "We are only concerned with the prediction found at index 6427\n"
     ]
    },
    {
     "data": {
      "text/plain": [
       "6398    1\n",
       "6399    1\n",
       "6400    1\n",
       "6401    1\n",
       "6402    1\n",
       "6403    0\n",
       "6404    1\n",
       "6405    1\n",
       "6406    1\n",
       "6407    1\n",
       "6408    0\n",
       "6409    1\n",
       "6410    0\n",
       "6411    0\n",
       "6412    1\n",
       "6413    1\n",
       "6414    0\n",
       "6415    1\n",
       "6416    1\n",
       "6417    0\n",
       "6418    0\n",
       "6419    0\n",
       "6420    0\n",
       "6421    1\n",
       "6422    1\n",
       "6423    1\n",
       "6424    1\n",
       "6425    0\n",
       "6426    1\n",
       "6427    1\n",
       "dtype: int64"
      ]
     },
     "execution_count": 11,
     "metadata": {},
     "output_type": "execute_result"
    }
   ],
   "source": [
    "# convert \"predictions\" data type from a numpy.ndarray to a pandas series (will be used in construction of data frame below)\n",
    "# each predicted value is for 30 days into the future, as the feature set was not shifted\n",
    "all_new_predictions = pd.Series(predictions)\n",
    "all_new_predictions\n",
    "\n",
    "# NB:  When using October 18, 2021 as the first forward test date\n",
    "#      The initial 30 day forecasts are available immediately\n",
    "#      On subsequent runs, when new feature data is available, we are only intersted in the last forecast in series\n",
    "#      E.g. When the next day's feature set data is available, run notebook and now you are intersted in the last value in series\n",
    "#           This represnts the forecast for the target 30 days from the new period end date, etc.\n",
    "print(f'We are only concerned with the prediction found at index {len(predictions) - 1}')\n",
    "new_predictions = all_new_predictions.iloc[-30:]\n",
    "new_predictions"
   ]
  }
 ],
 "metadata": {
  "kernelspec": {
   "display_name": "Python 3 (ipykernel)",
   "language": "python",
   "name": "python3"
  },
  "language_info": {
   "codemirror_mode": {
    "name": "ipython",
    "version": 3
   },
   "file_extension": ".py",
   "mimetype": "text/x-python",
   "name": "python",
   "nbconvert_exporter": "python",
   "pygments_lexer": "ipython3",
   "version": "3.7.10"
  }
 },
 "nbformat": 4,
 "nbformat_minor": 5
}
